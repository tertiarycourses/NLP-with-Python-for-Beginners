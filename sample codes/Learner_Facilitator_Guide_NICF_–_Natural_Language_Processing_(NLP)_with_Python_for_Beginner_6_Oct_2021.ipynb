{
  "nbformat": 4,
  "nbformat_minor": 0,
  "metadata": {
    "accelerator": "GPU",
    "colab": {
      "name": "Learner/Facilitator Guide - NICF – Natural Language Processing (NLP) with Python for Beginner - 6 Oct 2021.ipynb",
      "provenance": [],
      "collapsed_sections": [
        "q57FVc2tVqRb",
        "C0a6eMRpt_6P",
        "1jlox9EnuFoX"
      ]
    },
    "kernelspec": {
      "display_name": "Python 3",
      "language": "python",
      "name": "python3"
    },
    "language_info": {
      "codemirror_mode": {
        "name": "ipython",
        "version": 3
      },
      "file_extension": ".py",
      "mimetype": "text/x-python",
      "name": "python",
      "nbconvert_exporter": "python",
      "pygments_lexer": "ipython3",
      "version": "3.9.2"
    }
  },
  "cells": [
    {
      "cell_type": "markdown",
      "metadata": {
        "id": "3NNddRftQM5s"
      },
      "source": [
        "# NICF – Natural Language Processing (NLP) with Python for Beginners"
      ]
    },
    {
      "cell_type": "markdown",
      "metadata": {
        "id": "V4Jl-ern-xhP"
      },
      "source": [
        "# Topic 1 Overview of NLP and Deep Learning"
      ]
    },
    {
      "cell_type": "markdown",
      "metadata": {
        "id": "frNQRGpi-xhV"
      },
      "source": [
        "# Topic 2 Language Modeling\n",
        "\n"
      ]
    },
    {
      "cell_type": "markdown",
      "metadata": {
        "id": "cBGYbXC5bxsl"
      },
      "source": [
        "## Install spaCy"
      ]
    },
    {
      "cell_type": "code",
      "metadata": {
        "id": "X6RxKM3HALgQ"
      },
      "source": [
        "# Install spaCy v3\n",
        "!pip3 install spacy==3.1"
      ],
      "execution_count": null,
      "outputs": []
    },
    {
      "cell_type": "code",
      "metadata": {
        "id": "_iZvlwS2-xhU"
      },
      "source": [
        "import spacy\n",
        "print(spacy.__version__)"
      ],
      "execution_count": null,
      "outputs": []
    },
    {
      "cell_type": "markdown",
      "metadata": {
        "id": "I9OLIfjRkJxU"
      },
      "source": [
        "## The nlp object"
      ]
    },
    {
      "cell_type": "code",
      "metadata": {
        "id": "xb-9ROkB-xhV"
      },
      "source": [
        "# Import the English language class\n",
        "from spacy.lang.en import English\n",
        "\n",
        "# Create the nlp object\n",
        "nlp = English()"
      ],
      "execution_count": null,
      "outputs": []
    },
    {
      "cell_type": "code",
      "metadata": {
        "id": "dpuYqCDqief1"
      },
      "source": [
        "nlp"
      ],
      "execution_count": null,
      "outputs": []
    },
    {
      "cell_type": "markdown",
      "metadata": {
        "id": "D5l3RNVikORf"
      },
      "source": [
        "## The Doc object"
      ]
    },
    {
      "cell_type": "code",
      "metadata": {
        "id": "gx4gfd9CkXch"
      },
      "source": [
        "# Created by processing a string of text with the nlp object\n",
        "doc = nlp(\"Hello world!\")\n",
        "doc"
      ],
      "execution_count": null,
      "outputs": []
    },
    {
      "cell_type": "code",
      "metadata": {
        "id": "5tusTmj9bLeb"
      },
      "source": [
        "text = open('sample.txt').read()\n",
        "doc = nlp(text)\n",
        "doc"
      ],
      "execution_count": null,
      "outputs": []
    },
    {
      "cell_type": "markdown",
      "metadata": {
        "id": "aITozwgrmBBx"
      },
      "source": [
        "## The Token object"
      ]
    },
    {
      "cell_type": "code",
      "metadata": {
        "id": "2Ic4xZuYmSVD"
      },
      "source": [
        "doc = nlp(\"Hello world!\")\n",
        "doc\n",
        "\n",
        "# Iterate over tokens in a Doc\n",
        "for token in doc:\n",
        "    print(token.text)"
      ],
      "execution_count": null,
      "outputs": []
    },
    {
      "cell_type": "code",
      "metadata": {
        "id": "GbSJQWP4mUrY"
      },
      "source": [
        "# Index into the Doc to get a single Token\n",
        "token = doc[1]\n",
        "\n",
        "# Get the token text via the .text attribute\n",
        "print(token.text)"
      ],
      "execution_count": null,
      "outputs": []
    },
    {
      "cell_type": "markdown",
      "metadata": {
        "id": "abMP3mB556hY"
      },
      "source": [
        "### Activity: The Doc and Token Object"
      ]
    },
    {
      "cell_type": "code",
      "metadata": {
        "id": "OmjZOFFqB-jt"
      },
      "source": [
        "# Import the English language class\n",
        "from spacy.lang.____ import ____\n",
        "​\n",
        "# Create the nlp object\n",
        "nlp = ____\n",
        "​\n",
        "# Process a text\n",
        "text = open('sample.txt').read()\n",
        "doc = nlp(text)\n",
        "​\n",
        "# Print the document text\n",
        "print(____.text)"
      ],
      "execution_count": null,
      "outputs": []
    },
    {
      "cell_type": "markdown",
      "metadata": {
        "id": "zvoeKUUyB_PT"
      },
      "source": [
        "### Solution: The Doc and Token Object"
      ]
    },
    {
      "cell_type": "code",
      "metadata": {
        "id": "EQGKI-p455kg"
      },
      "source": [
        "# Import the English language class and create the nlp object\n",
        "from spacy.lang.en import English\n",
        "\n",
        "# Create the nlp object\n",
        "nlp = English()\n",
        "\n",
        "# Process the text\n",
        "text = open('sample.txt').read()\n",
        "doc = nlp(text)\n",
        "\n",
        "# Print the token's text\n",
        "for token in doc:\n",
        "    print(token.text)"
      ],
      "execution_count": null,
      "outputs": []
    },
    {
      "cell_type": "markdown",
      "metadata": {
        "id": "bPAMBDJ_CoYQ"
      },
      "source": [
        "### Activity: The Token Object"
      ]
    },
    {
      "cell_type": "code",
      "metadata": {
        "id": "EbXvvlGhCtWj"
      },
      "source": [
        "# Import the English language class and create the nlp object\n",
        "from ____ import ____\n",
        "​\n",
        "nlp = ____\n",
        "​\n",
        "# Process the text\n",
        "doc = ____(\"I like tree kangaroos and narwhals.\")\n",
        "​\n",
        "# Select the first token\n",
        "first_token = doc[____]\n",
        "​\n",
        "# Print the first token's text\n",
        "print(first_token.____)"
      ],
      "execution_count": null,
      "outputs": []
    },
    {
      "cell_type": "markdown",
      "metadata": {
        "id": "dqcWBKBiCwh9"
      },
      "source": [
        "### Solution: The Token Object"
      ]
    },
    {
      "cell_type": "code",
      "metadata": {
        "id": "buwF6M4XCzi8"
      },
      "source": [
        "# Import the English language class and create the nlp object\n",
        "from spacy.lang.en import English\n",
        "\n",
        "nlp = English()\n",
        "\n",
        "# Process the text\n",
        "doc = nlp(\"I like tree kangaroos and narwhals.\")\n",
        "\n",
        "# Select the first token\n",
        "first_token = doc[0]\n",
        "\n",
        "# Print the first token's text\n",
        "print(first_token.text)"
      ],
      "execution_count": null,
      "outputs": []
    },
    {
      "cell_type": "markdown",
      "metadata": {
        "id": "5bXAmiBmCGRU"
      },
      "source": [
        "## Stopwords"
      ]
    },
    {
      "cell_type": "code",
      "metadata": {
        "id": "a0jSV4RtdB4c"
      },
      "source": [
        "stopwords = nlp.Defaults.stop_words\n",
        "stopwords"
      ],
      "execution_count": null,
      "outputs": []
    },
    {
      "cell_type": "code",
      "metadata": {
        "id": "oapWUXZcdVvz"
      },
      "source": [
        "import string\n",
        "punctuations = string.punctuation\n",
        "\n",
        "stopwords = stopwords.union({'\\n'})\n",
        "\n",
        "text = open('sample.txt').read()\n",
        "doc = nlp(text)\n",
        "\n",
        "tokens = [token.text for token in doc if token.text not in stopwords and token.text not in punctuations]\n",
        "cleaned_doc = ' '.join(tokens)\n",
        "cleaned_doc\n"
      ],
      "execution_count": null,
      "outputs": []
    },
    {
      "cell_type": "markdown",
      "metadata": {
        "id": "dag2rlN9erjZ"
      },
      "source": [
        "### Activity: Stopwords"
      ]
    },
    {
      "cell_type": "code",
      "metadata": {
        "id": "f3PxEw48eo-5"
      },
      "source": [
        "text= \"Clutching the coin, Maria ran to the shops. She went straight to the counter and bought the sweets\"\n",
        "doc = nlp(text)\n",
        "\n",
        "tokens = [tok.text for tok in doc if tok.text not in _______ and tok.text not in _______]\n",
        "cleaned_doc = ' '.join(___)\n",
        "cleaned_doc"
      ],
      "execution_count": null,
      "outputs": []
    },
    {
      "cell_type": "markdown",
      "metadata": {
        "id": "aG8UxVYqHyzU"
      },
      "source": [
        "### Solution: Stopwords"
      ]
    },
    {
      "cell_type": "code",
      "metadata": {
        "id": "BW9pMM_dHgcJ"
      },
      "source": [
        "text= \"Clutching the coin, Maria ran to the shops. She went straight to the counter and bought the sweets\"\n",
        "doc = nlp(text)\n",
        "\n",
        "tokens = [tok.text for tok in doc if tok.text not in stopwords and tok.text not in punctuations]\n",
        "cleaned_doc = ' '.join(tokens)\n",
        "cleaned_doc"
      ],
      "execution_count": null,
      "outputs": []
    },
    {
      "cell_type": "markdown",
      "metadata": {
        "id": "nAeSowy0oOAF"
      },
      "source": [
        "## The Span object"
      ]
    },
    {
      "cell_type": "code",
      "metadata": {
        "id": "Y-0dTqQYoSMV"
      },
      "source": [
        "doc = nlp(\"Hello world!\")\n",
        "\n",
        "# A slice from the Doc is a Span object\n",
        "span = doc[1:3]\n",
        "\n",
        "# Get the span text via the .text attribute\n",
        "print(span.text)"
      ],
      "execution_count": null,
      "outputs": []
    },
    {
      "cell_type": "markdown",
      "metadata": {
        "id": "OPSwGSE68vuq"
      },
      "source": [
        "### Activity: The Span Object"
      ]
    },
    {
      "cell_type": "code",
      "metadata": {
        "id": "kFb34iHF7y3P"
      },
      "source": [
        "# Import the English language class and create the nlp object\n",
        "from ____ import ____\n",
        "\n",
        "nlp = ____\n",
        "\n",
        "# Process the text\n",
        "doc = ____(\"I like tree kangaroos and narwhals.\")\n",
        "\n",
        "# A slice of the Doc for \"tree kangaroos\"\n",
        "tree_kangaroos = ____\n",
        "print(tree_kangaroos.text)\n",
        "\n",
        "# A slice of the Doc for \"tree kangaroos and narwhals\" (without the \".\")\n",
        "tree_kangaroos_and_narwhals = ____\n",
        "print(tree_kangaroos_and_narwhals.text)"
      ],
      "execution_count": null,
      "outputs": []
    },
    {
      "cell_type": "markdown",
      "metadata": {
        "id": "VIPfkAUCDxFP"
      },
      "source": [
        "### Solution: The Span Object"
      ]
    },
    {
      "cell_type": "code",
      "metadata": {
        "id": "1-bY0w6ODz-M"
      },
      "source": [
        "# Import the English language class and create the nlp object\n",
        "from spacy.lang.en import English\n",
        "\n",
        "nlp = English()\n",
        "\n",
        "# Process the text\n",
        "doc = nlp(\"I like tree kangaroos and narwhals.\")\n",
        "\n",
        "# A slice of the Doc for \"tree kangaroos\"\n",
        "tree_kangaroos = doc[2:4]\n",
        "print(tree_kangaroos.text)\n",
        "\n",
        "# A slice of the Doc for \"tree kangaroos and narwhals\" (without the \".\")\n",
        "tree_kangaroos_and_narwhals = doc[2:6]\n",
        "print(tree_kangaroos_and_narwhals.text)"
      ],
      "execution_count": null,
      "outputs": []
    },
    {
      "cell_type": "markdown",
      "metadata": {
        "id": "HKetAIDn1wSY"
      },
      "source": [
        "## Lexical Attributes"
      ]
    },
    {
      "cell_type": "code",
      "metadata": {
        "id": "B97n9QB_1yWp"
      },
      "source": [
        "doc = nlp(\"It costs $5.\")"
      ],
      "execution_count": null,
      "outputs": []
    },
    {
      "cell_type": "code",
      "metadata": {
        "id": "GemwBDYc2Ga9"
      },
      "source": [
        "print(\"Index:   \", [token.i for token in doc])\n",
        "print(\"Text:    \", [token.text for token in doc])\n",
        "\n",
        "print(\"is_alpha:\", [token.is_alpha for token in doc])\n",
        "print(\"is_punct:\", [token.is_punct for token in doc])\n",
        "print(\"like_num:\", [token.like_num for token in doc])"
      ],
      "execution_count": null,
      "outputs": []
    },
    {
      "cell_type": "markdown",
      "metadata": {
        "id": "o1Zzfes3_p1Y"
      },
      "source": [
        "### Activity: Lexical Attributes"
      ]
    },
    {
      "cell_type": "code",
      "metadata": {
        "id": "tjg-kNSSETmq"
      },
      "source": [
        "from spacy.lang.en import English\n",
        "\n",
        "nlp = English()\n",
        "\n",
        "# Process the text\n",
        "doc = nlp(\n",
        "    \"In 1990, more than 60% of people in East Asia were in extreme poverty. \"\n",
        "    \"Now less than 4% are.\"\n",
        ")\n",
        "\n",
        "# Iterate over the tokens in the doc\n",
        "for token in doc:\n",
        "    # Check if the token resembles a number\n",
        "    if ____.____:\n",
        "        # Get the next token in the document\n",
        "        next_token = ____[____]\n",
        "        # Check if the next token's text equals \"%\"\n",
        "        if next_token.____ == \"%\":\n",
        "            print(\"Percentage found:\", token.text)"
      ],
      "execution_count": null,
      "outputs": []
    },
    {
      "cell_type": "markdown",
      "metadata": {
        "id": "_1GUnklUEU-o"
      },
      "source": [
        "### Solution: Lexical Attributes"
      ]
    },
    {
      "cell_type": "code",
      "metadata": {
        "id": "_TGTMoyW9Gfg"
      },
      "source": [
        "from spacy.lang.en import English\n",
        "\n",
        "nlp = English()\n",
        "\n",
        "# Process the text\n",
        "doc = nlp(\n",
        "    \"In 1990, more than 60% of people in East Asia were in extreme poverty. \"\n",
        "    \"Now less than 4% are.\"\n",
        ")\n",
        "# Iterate over the tokens in the doc\n",
        "for token in doc:\n",
        "    # Check if the token resembles a number\n",
        "    if token.like_num:\n",
        "        # Get the next token in the document\n",
        "        next_token = doc[token.i+1]\n",
        "        # Check if the next token's text equals \"%\"\n",
        "        if next_token.text == \"%\":\n",
        "            print(\"Percentage found:\", token.text)"
      ],
      "execution_count": null,
      "outputs": []
    },
    {
      "cell_type": "markdown",
      "metadata": {
        "id": "4HI0-W_d34Bs"
      },
      "source": [
        "## Statistical Model Packages"
      ]
    },
    {
      "cell_type": "code",
      "metadata": {
        "id": "SS_Sm-vM3ncP"
      },
      "source": [
        "!python3 -m spacy download en_core_web_sm"
      ],
      "execution_count": null,
      "outputs": []
    },
    {
      "cell_type": "code",
      "metadata": {
        "id": "PyUDLIaT4DGB"
      },
      "source": [
        "import spacy\n",
        "\n",
        "nlp = spacy.load(\"en_core_web_sm\")"
      ],
      "execution_count": null,
      "outputs": []
    },
    {
      "cell_type": "markdown",
      "metadata": {
        "id": "c2v6BwxPUvca"
      },
      "source": [
        "### Activity: Model Packages"
      ]
    },
    {
      "cell_type": "code",
      "metadata": {
        "id": "H5ImmtrnEeU_"
      },
      "source": [
        "import spacy\n",
        "\n",
        "# Load the \"en_core_web_sm\" model\n",
        "nlp = ____\n",
        "\n",
        "text = \"It’s official: Apple is the first U.S. public company to reach a $1 trillion market value\"\n",
        "\n",
        "# Process the text\n",
        "doc = ____\n",
        "\n",
        "# Print the document text\n",
        "print(____.____)"
      ],
      "execution_count": null,
      "outputs": []
    },
    {
      "cell_type": "markdown",
      "metadata": {
        "id": "4NI9Ba4qEgnk"
      },
      "source": [
        "### Soluion; Model Packages"
      ]
    },
    {
      "cell_type": "code",
      "metadata": {
        "id": "aBhyj83RUkN4"
      },
      "source": [
        "import spacy\n",
        "\n",
        "# Load the \"en_core_web_sm\" model\n",
        "nlp = spacy.load(\"en_core_web_sm\")\n",
        "\n",
        "text = \"It’s official: Apple is the first U.S. public company to reach a $1 trillion market value\"\n",
        "\n",
        "# Process the text\n",
        "doc = nlp(text)\n",
        "\n",
        "# Print the document text\n",
        "print(doc.text)\n"
      ],
      "execution_count": null,
      "outputs": []
    },
    {
      "cell_type": "markdown",
      "metadata": {
        "id": "lIcq9XhBFodJ"
      },
      "source": [
        "## Predicting Part-of-Speech Tags"
      ]
    },
    {
      "cell_type": "code",
      "metadata": {
        "id": "H6ZRR0iPBpJB"
      },
      "source": [
        "import spacy\n",
        "\n",
        "# Load the small English model\n",
        "nlp = spacy.load(\"en_core_web_sm\")\n",
        "\n",
        "# Process a text\n",
        "doc = nlp(\"She ate the pizza\")\n",
        "\n",
        "# Iterate over the tokens\n",
        "for token in doc:\n",
        "    # Print the text and the predicted part-of-speech tag\n",
        "    print(token.text, token.pos_)"
      ],
      "execution_count": null,
      "outputs": []
    },
    {
      "cell_type": "markdown",
      "metadata": {
        "id": "RcYxBpU4HMSQ"
      },
      "source": [
        "## Predicting Syntactic Dependencies"
      ]
    },
    {
      "cell_type": "code",
      "metadata": {
        "id": "twxotFDrFuu0"
      },
      "source": [
        "for token in doc:\n",
        "    print(token.text, token.pos_, token.dep_, token.head.text)"
      ],
      "execution_count": null,
      "outputs": []
    },
    {
      "cell_type": "markdown",
      "metadata": {
        "id": "q57FVc2tVqRb"
      },
      "source": [
        "### Activity: Predicting POS and Syntactic Dependency"
      ]
    },
    {
      "cell_type": "code",
      "metadata": {
        "id": "J5qwQ9heFCuj"
      },
      "source": [
        "import spacy\n",
        "\n",
        "nlp = spacy.load(\"en_core_web_sm\")\n",
        "\n",
        "text = \"It’s official: Apple is the first U.S. public company to reach a $1 trillion market value\"\n",
        "\n",
        "# Process the text\n",
        "doc = ____\n",
        "\n",
        "for token in doc:\n",
        "    # Get the token text, part-of-speech tag and dependency label\n",
        "    token_text = ____.____\n",
        "    token_pos = ____.____\n",
        "    token_dep = ____.____\n",
        "    # This is for formatting only\n",
        "    print(f\"{token_text:<12}{token_pos:<10}{token_dep:<10}\")"
      ],
      "execution_count": null,
      "outputs": []
    },
    {
      "cell_type": "markdown",
      "metadata": {
        "id": "ChTwx06fFDQM"
      },
      "source": [
        "### Solution: Predicting POS and Syntactic Dependency"
      ]
    },
    {
      "cell_type": "code",
      "metadata": {
        "id": "M6D-VBpgVR35"
      },
      "source": [
        "import spacy\n",
        "\n",
        "nlp = spacy.load(\"en_core_web_sm\")\n",
        "\n",
        "text = \"It’s official: Apple is the first U.S. public company to reach a $1 trillion market value\"\n",
        "\n",
        "# Process the text\n",
        "doc = nlp(text)\n",
        "\n",
        "for token in doc:\n",
        "    # Get the token text, part-of-speech tag and dependency label\n",
        "    token_text = token.text\n",
        "    token_pos = token.pos_\n",
        "    token_dep = token.dep_\n",
        "    # This is for formatting only\n",
        "    print(f\"{token_text:<12}{token_pos:<10}{token_dep:<10}\")"
      ],
      "execution_count": null,
      "outputs": []
    },
    {
      "cell_type": "markdown",
      "metadata": {
        "id": "7p_1mFwyk-6E"
      },
      "source": [
        "### Visualize Syntactic Dependency"
      ]
    },
    {
      "cell_type": "code",
      "metadata": {
        "id": "f-xjVUDTik_m"
      },
      "source": [
        "from spacy import displacy\n",
        "\n",
        "doc = nlp('She ate the pizza')\n",
        "\n",
        "html = displacy.render([doc], style='dep', jupyter=True)"
      ],
      "execution_count": null,
      "outputs": []
    },
    {
      "cell_type": "markdown",
      "metadata": {
        "id": "C8KzMnA9KGkH"
      },
      "source": [
        "## Predicting Named Entities"
      ]
    },
    {
      "cell_type": "code",
      "metadata": {
        "id": "OvSFJFrxJ4qk"
      },
      "source": [
        "# Process a text\n",
        "doc = nlp(\"Apple is looking at buying U.K. startup for $1 billion\")\n",
        "\n",
        "# Iterate over the predicted entities\n",
        "for ent in doc.ents:\n",
        "    # Print the entity text and its label\n",
        "    print(ent.text, ent.label_)"
      ],
      "execution_count": null,
      "outputs": []
    },
    {
      "cell_type": "markdown",
      "metadata": {
        "id": "w4FDBa89WLw0"
      },
      "source": [
        "### Activity: Predict Named Entities"
      ]
    },
    {
      "cell_type": "code",
      "metadata": {
        "id": "PqT2xzDdFQOb"
      },
      "source": [
        "import spacy\n",
        "\n",
        "nlp = spacy.load(\"en_core_web_sm\")\n",
        "\n",
        "text = \"It’s official: Apple is the first U.S. public company to reach a $1 trillion market value\"\n",
        "\n",
        "# Process the text\n",
        "doc = ____\n",
        "\n",
        "# Iterate over the predicted entities\n",
        "for ent in ____.____:\n",
        "    # Print the entity text and its label\n",
        "    print(ent.____, ____.____)"
      ],
      "execution_count": null,
      "outputs": []
    },
    {
      "cell_type": "markdown",
      "metadata": {
        "id": "P0hM1ZeMFRym"
      },
      "source": [
        "### Solution: Predict Named Entities"
      ]
    },
    {
      "cell_type": "code",
      "metadata": {
        "id": "LM_mzu24WDH6"
      },
      "source": [
        "import spacy\n",
        "\n",
        "nlp = spacy.load(\"en_core_web_sm\")\n",
        "\n",
        "text = \"It’s official: Apple is the first U.S. public company to reach a $1 trillion market value\"\n",
        "\n",
        "# Process the text\n",
        "doc = nlp(text)\n",
        "\n",
        "# Iterate over the predicted entities\n",
        "for ent in doc.ents:\n",
        "    # Print the entity text and its label\n",
        "    print(ent.text, ent.label_)"
      ],
      "execution_count": null,
      "outputs": []
    },
    {
      "cell_type": "markdown",
      "metadata": {
        "id": "_h5C7doYlVxu"
      },
      "source": [
        "### Visualie Named Entities"
      ]
    },
    {
      "cell_type": "code",
      "metadata": {
        "id": "LqP6Fnv_iTie"
      },
      "source": [
        "from spacy import displacy\n",
        "\n",
        "doc = nlp('Apple is looking at buying U.K. startup for $1 billion')\n",
        "\n",
        "html = displacy.render([doc], style='ent', jupyter=True)"
      ],
      "execution_count": null,
      "outputs": []
    },
    {
      "cell_type": "markdown",
      "metadata": {
        "id": "xZ2upc3aiAHg"
      },
      "source": [
        "## Wrong Prediction"
      ]
    },
    {
      "cell_type": "code",
      "metadata": {
        "id": "9MIZ3vdNWtYS"
      },
      "source": [
        "import spacy\n",
        "\n",
        "nlp = spacy.load(\"en_core_web_sm\")\n",
        "\n",
        "text = \"Upcoming iPhone X release date leaked as Apple reveals pre-orders\"\n",
        "\n",
        "# Process the text\n",
        "doc = nlp(text)\n",
        "\n",
        "# Iterate over the entities\n",
        "for ent in doc.ents:\n",
        "    # Print the entity text and label\n",
        "    print(ent.text, ent.label_)\n",
        "\n",
        "# Get the span for \"iPhone X\"\n",
        "iphone_x = doc[1:3]\n",
        "\n",
        "# Print the span text\n",
        "print(\"Missing entity:\", iphone_x.text)"
      ],
      "execution_count": null,
      "outputs": []
    },
    {
      "cell_type": "markdown",
      "metadata": {
        "id": "KrRYiLQSmnSg"
      },
      "source": [
        "## Lemmatization"
      ]
    },
    {
      "cell_type": "code",
      "metadata": {
        "id": "RWv_v_CQmRGT"
      },
      "source": [
        "doc = nlp('I ran to the clinic with running nose')\n",
        "\n",
        "for token in doc:\n",
        "\tprint(token.text,token.lemma_)"
      ],
      "execution_count": null,
      "outputs": []
    },
    {
      "cell_type": "markdown",
      "metadata": {
        "id": "AV-4UPiulayz"
      },
      "source": [
        "## Rule-Based Matching"
      ]
    },
    {
      "cell_type": "code",
      "metadata": {
        "id": "8xLzOvAFYV13"
      },
      "source": [
        "import spacy\n",
        "\n",
        "# Import the Matcher\n",
        "from spacy.matcher import Matcher\n",
        "\n",
        "# Load a model and create the nlp object\n",
        "nlp = spacy.load(\"en_core_web_sm\")\n",
        "\n",
        "# Initialize the matcher with the shared vocab\n",
        "matcher = Matcher(nlp.vocab)\n",
        "\n",
        "# Add the pattern to the matcher\n",
        "pattern = [{\"TEXT\": \"iPhone\"}, {\"TEXT\": \"X\"}]\n",
        "matcher.add(\"IPHONE_PATTERN\", [pattern])"
      ],
      "execution_count": null,
      "outputs": []
    },
    {
      "cell_type": "code",
      "metadata": {
        "id": "719rzBEMYcyB"
      },
      "source": [
        "# Call the matcher on the doc\n",
        "doc = nlp(\"Upcoming iPhone X release date leaked\")\n",
        "matches = matcher(doc)\n",
        "\n",
        "# Iterate over the matches\n",
        "for match_id, start, end in matches:\n",
        "    # Get the matched span\n",
        "    matched_span = doc[start:end]\n",
        "    print(matched_span.text)"
      ],
      "execution_count": null,
      "outputs": []
    },
    {
      "cell_type": "code",
      "metadata": {
        "id": "Dki6H9H6o_Hz"
      },
      "source": [
        "pattern = [\n",
        "    {'LEMMA': 'love', 'POS': 'VERB'},\n",
        "    {'POS': 'NOUN'}\n",
        "]\n",
        "\n",
        "doc = nlp(\"I loved dogs but now I love cats more.\")\n",
        "\n",
        "# Initialize the matcher with the shared vocab\n",
        "matcher = Matcher(nlp.vocab)\n",
        "\n",
        "# Add the pattern to the matcher\n",
        "matcher.add('PETS', [pattern])\n",
        "\n",
        "# Call the matcher on the doc\n",
        "matches = matcher(doc)\n",
        "\n",
        "# Iterate over the matches\n",
        "for match_id, start, end in matches:\n",
        "    # Get the matched span\n",
        "    matched_span = doc[start:end]\n",
        "    print(matched_span.text)"
      ],
      "execution_count": null,
      "outputs": []
    },
    {
      "cell_type": "markdown",
      "metadata": {
        "id": "cdnEDFsnqrxs"
      },
      "source": [
        "### Activity 1: Rule Based Matching\n",
        "\n",
        "1.   List item\n",
        "2.   List item\n",
        "\n"
      ]
    },
    {
      "cell_type": "code",
      "metadata": {
        "id": "Ei8fqGuSFtcD"
      },
      "source": [
        "import spacy\n",
        "from spacy.____ import _____\n",
        "\n",
        "doc = nlp(\n",
        "    \"After making the iOS update you won't notice a radical system-wide \"\n",
        "    \"redesign: nothing like the aesthetic upheaval we got with iOS 7. Most of \"\n",
        "    \"iOS 11's furniture remains the same as in iOS 10. But you will discover \"\n",
        "    \"some tweaks once you delve a little deeper.\"\n",
        ")\n",
        "\n",
        "# Initialize the Matcher with the shared vocabulary\n",
        "matcher = ____(____.____)\n",
        "\n",
        "# Write a pattern for full iOS versions (\"iOS 7\", \"iOS 11\", \"iOS 10\")\n",
        "pattern = [________]\n",
        "\n",
        "# Add the pattern to the matcher and apply the matcher to the doc\n",
        "matcher.add(\"IOS_VERSION_PATTERN\", [pattern])\n",
        "matches = matcher(doc)\n",
        "print(\"Total matches found:\", len(matches))\n",
        "\n",
        "# Iterate over the matches and print the span text\n",
        "for match_id, start, end in matches:\n",
        "    print(\"Match found:\", doc[start:end].text)"
      ],
      "execution_count": null,
      "outputs": []
    },
    {
      "cell_type": "markdown",
      "metadata": {
        "id": "B1UCJR4VFvum"
      },
      "source": [
        "### Solution: Rule Based Matching"
      ]
    },
    {
      "cell_type": "code",
      "metadata": {
        "id": "_vwFW_M6qeSY"
      },
      "source": [
        "import spacy\n",
        "from spacy.matcher import Matcher\n",
        "\n",
        "nlp = spacy.load(\"en_core_web_sm\")\n",
        "doc = nlp(\n",
        "    \"After making the iOS update you won't notice a radical system-wide \"\n",
        "    \"redesign: nothing like the aesthetic upheaval we got with iOS 7. Most of \"\n",
        "    \"iOS 11's furniture remains the same as in iOS 10. But you will discover \"\n",
        "    \"some tweaks once you delve a little deeper.\"\n",
        ")\n",
        "\n",
        "# Initialize the Matcher with the shared vocabulary\n",
        "matcher = Matcher(nlp.vocab)\n",
        "\n",
        "# Write a pattern for full iOS versions (\"iOS 7\", \"iOS 11\", \"iOS 10\")\n",
        "pattern = [{\"TEXT\": \"iOS\"}, {\"IS_DIGIT\": True}]\n",
        "\n",
        "# Add the pattern to the matcher and apply the matcher to the doc\n",
        "matcher.add(\"IOS_VERSION_PATTERN\", [pattern])\n",
        "matches = matcher(doc)\n",
        "print(\"Total matches found:\", len(matches))\n",
        "\n",
        "# Iterate over the matches and print the span text\n",
        "for match_id, start, end in matches:\n",
        "    print(\"Match found:\", doc[start:end].text)"
      ],
      "execution_count": null,
      "outputs": []
    },
    {
      "cell_type": "markdown",
      "metadata": {
        "id": "AaULpUkAUjzy"
      },
      "source": [
        "### Activity 2 : Rule Based Matching"
      ]
    },
    {
      "cell_type": "code",
      "metadata": {
        "id": "cmnKRZdUVHYl"
      },
      "source": [
        "!python3 -m spacy download en_core_web_sm"
      ],
      "execution_count": null,
      "outputs": []
    },
    {
      "cell_type": "code",
      "metadata": {
        "id": "oH8dl_6XUpyl"
      },
      "source": [
        "import spacy\n",
        "from spacy.matcher import Matcher\n",
        "\n",
        "nlp = spacy.load(\"en_core_web_sm\")\n",
        "\n",
        "text = open('unitednations.txt').read()\n",
        "doc = nlp(text)\n",
        "\n",
        "# Initialize the Matcher with the shared vocabulary\n",
        "matcher = Matcher(nlp.vocab)\n",
        "\n",
        "pattern = ________________\n",
        "\n",
        "# Add the pattern to the matcher and apply the matcher to the doc\n",
        "matcher.add(_________________)\n",
        "matches = matcher(doc)\n",
        "print(\"Total matches found:\", len(matches))\n",
        "\n",
        "# Iterate over the matches and print the span text\n",
        "for match_id, start, end in matches:\n",
        "    print(\"Match found:\", doc[start:end].text)"
      ],
      "execution_count": null,
      "outputs": []
    },
    {
      "cell_type": "markdown",
      "metadata": {
        "id": "l92spoJMUqO6"
      },
      "source": [
        "### Solution: Rule Based Matching"
      ]
    },
    {
      "cell_type": "code",
      "metadata": {
        "id": "Tkc-NxdGUcxm"
      },
      "source": [
        "import spacy\n",
        "from spacy.matcher import Matcher\n",
        "\n",
        "nlp = spacy.load(\"en_core_web_sm\")\n",
        "\n",
        "text = open('unitednations.txt').read()\n",
        "doc = nlp(text)\n",
        "\n",
        "# Initialize the Matcher with the shared vocabulary\n",
        "matcher = Matcher(nlp.vocab)\n",
        "\n",
        "pattern = [{'TAG': 'NNP'},\n",
        "           {'TAG': 'NNP'}]\n",
        "\n",
        "# Add the pattern to the matcher and apply the matcher to the doc\n",
        "matcher.add(\"UNITED Nation\", [pattern])\n",
        "matches = matcher(doc)\n",
        "print(\"Total matches found:\", len(matches))\n",
        "\n",
        "# Iterate over the matches and print the span text\n",
        "for match_id, start, end in matches:\n",
        "    print(\"Match found:\", doc[start:end].text)"
      ],
      "execution_count": null,
      "outputs": []
    },
    {
      "cell_type": "markdown",
      "metadata": {
        "id": "IASdEdSz-xhi"
      },
      "source": [
        "# Topic 3 Word Embedding"
      ]
    },
    {
      "cell_type": "markdown",
      "metadata": {
        "id": "wL-Dga8Zs-yY"
      },
      "source": [
        "## Vocab"
      ]
    },
    {
      "cell_type": "code",
      "metadata": {
        "id": "e6IEGT48r43T"
      },
      "source": [
        "# Import the English language class\n",
        "from spacy.lang.en import English\n",
        "\n",
        "# Create the nlp object\n",
        "nlp = English()"
      ],
      "execution_count": null,
      "outputs": []
    },
    {
      "cell_type": "code",
      "metadata": {
        "id": "DrbX40D8rR-J"
      },
      "source": [
        "doc = nlp(\"I love spicy food\")\n",
        "print(\"hash value:\", nlp.vocab.strings[\"spicy\"])"
      ],
      "execution_count": null,
      "outputs": []
    },
    {
      "cell_type": "code",
      "metadata": {
        "id": "HmdMo7uaYJHX"
      },
      "source": [
        "print(\"string value:\", nlp.vocab.strings[15018391292570830248])"
      ],
      "execution_count": null,
      "outputs": []
    },
    {
      "cell_type": "markdown",
      "metadata": {
        "id": "u8XbUBwLtPoS"
      },
      "source": [
        "### Activity: Vocab"
      ]
    },
    {
      "cell_type": "code",
      "metadata": {
        "id": "h27WoGvNtOqg"
      },
      "source": [
        "from spacy.lang.en import English\n",
        "​\n",
        "nlp = English()\n",
        "doc = nlp(\"I have a cat\")\n",
        "​\n",
        "t# Look up the hash for the word \"cat\"\n",
        "cat_hash = ____.____.____[____]\n",
        "print(cat_hash)\n",
        "\n",
        "# Look up the cat_hash to get the string\n",
        "cat_string = ____.____.____[____]\n",
        "print(cat_string)"
      ],
      "execution_count": null,
      "outputs": []
    },
    {
      "cell_type": "markdown",
      "metadata": {
        "id": "nl969Zf_tc9X"
      },
      "source": [
        "### Solution: Vocab"
      ]
    },
    {
      "cell_type": "code",
      "metadata": {
        "id": "6TkDUNvBtZr5"
      },
      "source": [
        "from spacy.lang.en import English\n",
        "\n",
        "nlp = English()\n",
        "doc = nlp(\"I have a cat\")\n",
        "\n",
        "# Look up the hash for the word \"cat\"\n",
        "cat_hash = nlp.vocab.strings[\"cat\"]\n",
        "print(cat_hash)\n",
        "\n",
        "# Look up the cat_hash to get the string\n",
        "cat_string = nlp.vocab.strings[cat_hash]\n",
        "print(cat_string)"
      ],
      "execution_count": null,
      "outputs": []
    },
    {
      "cell_type": "markdown",
      "metadata": {
        "id": "C0a6eMRpt_6P"
      },
      "source": [
        "### Activity: Vocab"
      ]
    },
    {
      "cell_type": "code",
      "metadata": {
        "id": "e8qDCQySt_TI"
      },
      "source": [
        "from spacy.lang.en import English\n",
        "\n",
        "nlp = English()\n",
        "doc = nlp(\"David Bowie is a PERSON\")\n",
        "\n",
        "# Look up the hash for the string label \"PERSON\"\n",
        "person_hash = ____.____.____[____]\n",
        "print(person_hash)\n",
        "\n",
        "# Look up the person_hash to get the string\n",
        "person_string = ____.____.____[____]\n",
        "print(person_string)"
      ],
      "execution_count": null,
      "outputs": []
    },
    {
      "cell_type": "markdown",
      "metadata": {
        "id": "1jlox9EnuFoX"
      },
      "source": [
        "### Solution: Vocab"
      ]
    },
    {
      "cell_type": "code",
      "metadata": {
        "id": "5B5U2HJ1uC9G"
      },
      "source": [
        "import spacy\n",
        "\n",
        "nlp = spacy.load(\"en_core_web_sm\")\n",
        "doc = nlp(\"David Bowie is a PERSON\")\n",
        "\n",
        "# Look up the hash for the string label \"PERSON\"\n",
        "person_hash = nlp.vocab.strings[\"PERSON\"]\n",
        "print(person_hash)\n",
        "\n",
        "# Look up the person_hash to get the string\n",
        "person_string = nlp.vocab.strings[person_hash]\n",
        "print(person_string)"
      ],
      "execution_count": null,
      "outputs": []
    },
    {
      "cell_type": "markdown",
      "metadata": {
        "id": "3OzVmVjhtBRP"
      },
      "source": [
        "## Lexeme"
      ]
    },
    {
      "cell_type": "code",
      "metadata": {
        "id": "WprMyS8as8ii"
      },
      "source": [
        "doc = nlp(\"I love spicy food\")\n",
        "lexeme = nlp.vocab[\"spicy\"]\n",
        "\n",
        "# Print the lexical attributes\n",
        "print(lexeme.text, lexeme.orth, lexeme.is_alpha)"
      ],
      "execution_count": null,
      "outputs": []
    },
    {
      "cell_type": "markdown",
      "metadata": {
        "id": "VMxmaDAqxeSq"
      },
      "source": [
        "## Install Medium English Model"
      ]
    },
    {
      "cell_type": "code",
      "metadata": {
        "id": "A-bIktPDxtXC"
      },
      "source": [
        "!python3 -m spacy download en_core_web_md"
      ],
      "execution_count": null,
      "outputs": []
    },
    {
      "cell_type": "markdown",
      "metadata": {
        "id": "GFS07kIM0IzM"
      },
      "source": [
        "## Word Vectors"
      ]
    },
    {
      "cell_type": "code",
      "metadata": {
        "id": "5h8gCce9z_Gy"
      },
      "source": [
        "# Load a larger model with vectors\n",
        "import spacy\n",
        "\n",
        "nlp = spacy.load(\"en_core_web_md\")\n",
        "\n",
        "doc = nlp(\"I love spciy food\")\n",
        "# Access the vector via the token.vector attribute\n",
        "print(doc[3].vector)"
      ],
      "execution_count": null,
      "outputs": []
    },
    {
      "cell_type": "markdown",
      "metadata": {
        "id": "nwoJ33K92emM"
      },
      "source": [
        "### Activity: Word Vectors"
      ]
    },
    {
      "cell_type": "code",
      "metadata": {
        "id": "I17ki-ao2cDP"
      },
      "source": [
        "import spacy\n",
        "\n",
        "# Load the en_core_web_md model\n",
        "nlp = ____\n",
        "\n",
        "# Process a text\n",
        "doc = nlp(\"Two bananas in pyjamas\")\n",
        "\n",
        "# Get the vector for the token \"bananas\"\n",
        "bananas_vector = ____.____\n",
        "print(bananas_vector)"
      ],
      "execution_count": null,
      "outputs": []
    },
    {
      "cell_type": "markdown",
      "metadata": {
        "id": "YI-0tkuh2jKK"
      },
      "source": [
        "### Solution: Word Vectors"
      ]
    },
    {
      "cell_type": "code",
      "metadata": {
        "id": "b0ql0qx-2mcx"
      },
      "source": [
        "import spacy\n",
        "\n",
        "# Load the en_core_web_md model\n",
        "nlp = spacy.load(\"en_core_web_md\")\n",
        "\n",
        "# Process a text\n",
        "doc = nlp(\"Two bananas in pyjamas\")\n",
        "\n",
        "# Get the vector for the token \"bananas\"\n",
        "bananas_vector = doc[1].vector\n",
        "print(bananas_vector)"
      ],
      "execution_count": null,
      "outputs": []
    },
    {
      "cell_type": "markdown",
      "metadata": {
        "id": "cILnVLnqy2zo"
      },
      "source": [
        "## Comparing Similarity"
      ]
    },
    {
      "cell_type": "code",
      "metadata": {
        "id": "Anj45wy4xdAY"
      },
      "source": [
        "# Load a larger model with vectors\n",
        "nlp = spacy.load(\"en_core_web_md\")\n",
        "\n",
        "# Compare two documents\n",
        "doc1 = nlp(\"I like fast food\")\n",
        "doc2 = nlp(\"I like pizza\")\n",
        "print(doc1.similarity(doc2))"
      ],
      "execution_count": null,
      "outputs": []
    },
    {
      "cell_type": "code",
      "metadata": {
        "id": "Pv-9yi7cyGdY"
      },
      "source": [
        "# Compare two tokens\n",
        "doc = nlp(\"I like pizza and pasta\")\n",
        "token1 = doc[2]\n",
        "token2 = doc[4]\n",
        "print(token1.similarity(token2))"
      ],
      "execution_count": null,
      "outputs": []
    },
    {
      "cell_type": "code",
      "metadata": {
        "id": "USsw4r7P_taw"
      },
      "source": [
        "dog = nlp.vocab['dog']\n",
        "animal = nlp.vocab['animal']\n",
        "\n",
        "print(dog.similarity(animal))\n"
      ],
      "execution_count": null,
      "outputs": []
    },
    {
      "cell_type": "code",
      "metadata": {
        "id": "8QJcvLRm_v38"
      },
      "source": [
        "doc1 = nlp(\"Dogs are awesome.\")\n",
        "doc2 = nlp(\"Some gorgeous creatures are felines.\")\n",
        "\n",
        "print(doc1.similarity(doc2))\n"
      ],
      "execution_count": null,
      "outputs": []
    },
    {
      "cell_type": "markdown",
      "metadata": {
        "id": "oSE_5Zp73MO9"
      },
      "source": [
        "### Activity: Comparing Similarity"
      ]
    },
    {
      "cell_type": "code",
      "metadata": {
        "id": "-vgNPW7U3PRj"
      },
      "source": [
        "import spacy\n",
        "\n",
        "nlp = spacy.load(\"en_core_web_md\")\n",
        "\n",
        "doc1 = nlp(\"It's a warm summer day\")\n",
        "doc2 = nlp(\"It's sunny outside\")\n",
        "doc3 = nlp(\"I need to take care of my kids today\")\n",
        "\n",
        "# Get the similarity of doc1, doc2 and doc3\n",
        "similarity = ____.____(____)\n",
        "print(similarity)"
      ],
      "execution_count": null,
      "outputs": []
    },
    {
      "cell_type": "markdown",
      "metadata": {
        "id": "hoZiMO5f6twZ"
      },
      "source": [
        "### Solution; Comparing Similarity"
      ]
    },
    {
      "cell_type": "code",
      "metadata": {
        "id": "kZQic3mB6qv8"
      },
      "source": [
        "import spacy\n",
        "\n",
        "nlp = spacy.load(\"en_core_web_md\")\n",
        "\n",
        "doc1 = nlp(\"It's a warm summer day\")\n",
        "doc2 = nlp(\"It's sunny outside\")\n",
        "\n",
        "# Get the similarity of doc1 and doc2\n",
        "similarity = doc1.similarity(doc2)\n",
        "print(similarity)"
      ],
      "execution_count": null,
      "outputs": []
    },
    {
      "cell_type": "code",
      "metadata": {
        "id": "ru1FyEi3ukox"
      },
      "source": [
        "# Compare a document with a token\n",
        "doc = nlp(\"I like pizza\")\n",
        "token = nlp(\"soap\")[0]\n",
        "\n",
        "print(doc.similarity(token))"
      ],
      "execution_count": null,
      "outputs": []
    },
    {
      "cell_type": "code",
      "metadata": {
        "id": "OSd9Qlm9yxcf"
      },
      "source": [
        "# Compare a span with a document\n",
        "span = nlp(\"I like pizza and pasta\")[2:5]\n",
        "doc = nlp(\"McDonalds sells burgers\")\n",
        "\n",
        "print(span.similarity(doc))"
      ],
      "execution_count": null,
      "outputs": []
    },
    {
      "cell_type": "markdown",
      "metadata": {
        "id": "Z8RUD-ZV8fFU"
      },
      "source": [
        "### Activity: Comparing Similarity"
      ]
    },
    {
      "cell_type": "code",
      "metadata": {
        "id": "uhsh0ZhL8ilF"
      },
      "source": [
        "import spacy\n",
        "\n",
        "nlp = spacy.load(\"en_core_web_md\")\n",
        "\n",
        "doc = nlp(\"TV and books\")\n",
        "token1, token2 = doc[0], doc[2]\n",
        "\n",
        "# Get the similarity of the tokens \"TV\" and \"books\"\n",
        "similarity = ____.____(____)\n",
        "print(similarity)"
      ],
      "execution_count": null,
      "outputs": []
    },
    {
      "cell_type": "markdown",
      "metadata": {
        "id": "VSr072Y28mp2"
      },
      "source": [
        "### Solution: Comparing Similarity"
      ]
    },
    {
      "cell_type": "code",
      "metadata": {
        "id": "_foRp3i-8rUw"
      },
      "source": [
        "import spacy\n",
        "\n",
        "nlp = spacy.load(\"en_core_web_md\")\n",
        "\n",
        "doc = nlp(\"TV and books\")\n",
        "token1, token2 = doc[0], doc[2]\n",
        "\n",
        "# Get the similarity of the tokens \"TV\" and \"books\"\n",
        "similarity = token1.similarity(token2)\n",
        "print(similarity)"
      ],
      "execution_count": null,
      "outputs": []
    },
    {
      "cell_type": "markdown",
      "metadata": {
        "id": "Vfpwqq7x1ioJ"
      },
      "source": [
        "## Similarity Depends on the Application Context"
      ]
    },
    {
      "cell_type": "code",
      "metadata": {
        "id": "HBzxpoO61ke4"
      },
      "source": [
        "doc1 = nlp(\"I like cats\")\n",
        "doc2 = nlp(\"I hate cats\")\n",
        "\n",
        "print(doc1.similarity(doc2))"
      ],
      "execution_count": null,
      "outputs": []
    },
    {
      "cell_type": "markdown",
      "metadata": {
        "id": "XxETIjjK86Ml"
      },
      "source": [
        "### Activity: Comparing Similarity"
      ]
    },
    {
      "cell_type": "code",
      "metadata": {
        "id": "Ytu2ibXx8-ka"
      },
      "source": [
        "import spacy\n",
        "\n",
        "nlp = spacy.load(\"en_core_web_md\")\n",
        "\n",
        "doc = nlp(\"This was a great restaurant. Afterwards, we went to a really nice bar.\")\n",
        "\n",
        "# Create spans for \"great restaurant\" and \"really nice bar\"\n",
        "span1 = ____\n",
        "span2 = ____\n",
        "\n",
        "# Get the similarity of the spans\n",
        "similarity = ____.____(____)\n",
        "print(similarity)"
      ],
      "execution_count": null,
      "outputs": []
    },
    {
      "cell_type": "markdown",
      "metadata": {
        "id": "OXUwLNNH8_yr"
      },
      "source": [
        "### Solution: Comparing Similarity"
      ]
    },
    {
      "cell_type": "code",
      "metadata": {
        "id": "J8EOJRvr9EJr"
      },
      "source": [
        "import spacy\n",
        "\n",
        "nlp = spacy.load(\"en_core_web_md\")\n",
        "\n",
        "doc = nlp(\"This was a great restaurant. Afterwards, we went to a really nice bar.\")\n",
        "\n",
        "# Create spans for \"great restaurant\" and \"really nice bar\"\n",
        "span1 = doc[3:5]\n",
        "span2 = doc[12:15]\n",
        "\n",
        "# Get the similarity of the spans\n",
        "similarity = span1.similarity(span2)\n",
        "print(similarity)"
      ],
      "execution_count": null,
      "outputs": []
    },
    {
      "cell_type": "markdown",
      "metadata": {
        "id": "bvYKHJuO-xhf"
      },
      "source": [
        "# Topic 4 Text Classification\n"
      ]
    },
    {
      "cell_type": "markdown",
      "metadata": {
        "id": "FEsETmmQ-xhg"
      },
      "source": [
        "## Default Pipeline"
      ]
    },
    {
      "cell_type": "code",
      "metadata": {
        "id": "h4cI0Q9W-xhg"
      },
      "source": [
        "nlp.pipeline"
      ],
      "execution_count": null,
      "outputs": []
    },
    {
      "cell_type": "code",
      "metadata": {
        "id": "3hhUNgkWBD-4"
      },
      "source": [
        "pipeline = [\"tagger\",\"ner\"]\n",
        "\n",
        "nlp = spacy.blank('en')\n",
        "for name in pipeline:\n",
        "    nlp.add_pipe(name)                 \n",
        "\n",
        "nlp.pipeline"
      ],
      "execution_count": null,
      "outputs": []
    },
    {
      "cell_type": "code",
      "metadata": {
        "id": "52dV4ksF-xhg"
      },
      "source": [
        "nlp.pipe_names"
      ],
      "execution_count": null,
      "outputs": []
    },
    {
      "cell_type": "markdown",
      "metadata": {
        "id": "nGSw8Q3oPzt4"
      },
      "source": [
        "### Activity: Inspecting the Pipeline"
      ]
    },
    {
      "cell_type": "code",
      "metadata": {
        "id": "vmHrPKhrQrKA"
      },
      "source": [
        "import spacy\n",
        "\n",
        "\n",
        "# Load the en_core_web_sm model\n",
        "nlp = ____\n",
        "\n",
        "# Print the names of the pipeline components\n",
        "print(____.____)\n",
        "\n",
        "# Print the full pipeline of (name, component) tuples\n",
        "print(____.____)"
      ],
      "execution_count": null,
      "outputs": []
    },
    {
      "cell_type": "markdown",
      "metadata": {
        "id": "lu_ik0TQQuIW"
      },
      "source": [
        "### Solution: Inspecting the Pipelines"
      ]
    },
    {
      "cell_type": "code",
      "metadata": {
        "id": "Glb7VuVjP2xd"
      },
      "source": [
        "import spacy\n",
        "\n",
        "# Load the en_core_web_sm model\n",
        "nlp = spacy.load(\"en_core_web_sm\")\n",
        "\n",
        "# Print the names of the pipeline components\n",
        "print(nlp.pipe_names)\n",
        "\n",
        "# Print the full pipeline of (name, component) tuples\n",
        "print(nlp.pipeline)"
      ],
      "execution_count": null,
      "outputs": []
    },
    {
      "cell_type": "markdown",
      "metadata": {
        "id": "gDdz2wQM-xhg"
      },
      "source": [
        "## Disable Components"
      ]
    },
    {
      "cell_type": "code",
      "metadata": {
        "id": "B1jsdB0p-xhg"
      },
      "source": [
        "import spacy\n",
        "\n",
        "# Load the en_core_web_sm model\n",
        "nlp = spacy.load(\"en_core_web_sm\",disable=['parser', 'tagger'])\n",
        "\n",
        "nlp.pipeline\n"
      ],
      "execution_count": null,
      "outputs": []
    },
    {
      "cell_type": "code",
      "metadata": {
        "id": "n-nH-8qgRr20"
      },
      "source": [
        "doc = nlp(u'The cat sit on the mat')\n",
        "for token in doc:\n",
        "    print(token.text,token.pos_)"
      ],
      "execution_count": null,
      "outputs": []
    },
    {
      "cell_type": "markdown",
      "metadata": {
        "id": "TZ8xIS8Y-xhh"
      },
      "source": [
        "## Custom Component"
      ]
    },
    {
      "cell_type": "markdown",
      "metadata": {
        "id": "ztnwWytBeyXK"
      },
      "source": [
        "### Example 1"
      ]
    },
    {
      "cell_type": "code",
      "metadata": {
        "id": "a6DZRz1QuNfM"
      },
      "source": [
        "from spacy.language import Language\n",
        "\n",
        "@Language.component(\"custom_component1\")\n",
        "def custom_component1(doc):\n",
        "    print(\"Doc length:\", len(doc))\n",
        "    return doc\n",
        "\n",
        "nlp.add_pipe(\"custom_component1\", name=\"custom_component1\", first=True)"
      ],
      "execution_count": null,
      "outputs": []
    },
    {
      "cell_type": "code",
      "metadata": {
        "id": "AzPFQI-CaJwe"
      },
      "source": [
        "print(\"Pipeline:\", nlp.pipe_names)"
      ],
      "execution_count": null,
      "outputs": []
    },
    {
      "cell_type": "code",
      "metadata": {
        "id": "2_ujf2WDaLIM"
      },
      "source": [
        "doc = nlp(\"I love spicy food\")"
      ],
      "execution_count": null,
      "outputs": []
    },
    {
      "cell_type": "markdown",
      "metadata": {
        "id": "P0WKmiiVe0Mo"
      },
      "source": [
        "### Example 2"
      ]
    },
    {
      "cell_type": "code",
      "metadata": {
        "id": "A7u--Wxfud5N"
      },
      "source": [
        "import spacy\n",
        "from spacy.language import Language\n",
        "\n",
        "@Language.component(\"custom_component2\")\n",
        "def custom_component2(doc):\n",
        "    if len(doc) < 10:\n",
        "        print(\"This is a pretty short document.\")\n",
        "    return doc\n",
        "\n",
        "nlp.add_pipe(\"custom_component2\", name=\"custom_component2\", last=True)"
      ],
      "execution_count": null,
      "outputs": []
    },
    {
      "cell_type": "code",
      "metadata": {
        "id": "9qnljIRpakLO"
      },
      "source": [
        "print(\"Pipeline:\", nlp.pipe_names)"
      ],
      "execution_count": null,
      "outputs": []
    },
    {
      "cell_type": "code",
      "metadata": {
        "id": "ItNaATPaamBx"
      },
      "source": [
        "doc = nlp(\"I love spicy food\")"
      ],
      "execution_count": null,
      "outputs": []
    },
    {
      "cell_type": "markdown",
      "metadata": {
        "id": "0Bn9nNg7iKbJ"
      },
      "source": [
        "### Activity: Custom Component"
      ]
    },
    {
      "cell_type": "code",
      "metadata": {
        "id": "GPgMs5oIU_LR"
      },
      "source": [
        "import spacy\n",
        "from spacy.language import Language\n",
        "\n",
        "# Define the custom component\n",
        "@Language.component(\"length_component\")\n",
        "def length_component(doc):\n",
        "    # Get the doc's length\n",
        "    doc_length = ____\n",
        "    print(f\"This document is {doc_length} tokens long.\")\n",
        "    # Return the doc\n",
        "    ____\n",
        "\n",
        "# Load the small English model\n",
        "nlp = spacy.load(\"en_core_web_sm\")\n",
        "\n",
        "# Add the component after the tokenizer in the pipeline and print the pipe names\n",
        "____.____(____)\n",
        "print(nlp.pipe_names)\n",
        "\n",
        "# Process a text\n",
        "doc = ____\n"
      ],
      "execution_count": null,
      "outputs": []
    },
    {
      "cell_type": "markdown",
      "metadata": {
        "id": "6R30oEMFiyc0"
      },
      "source": [
        "### Solution: Custom Component"
      ]
    },
    {
      "cell_type": "code",
      "metadata": {
        "id": "Q4yMn8iTiXOP"
      },
      "source": [
        "import spacy\n",
        "from spacy.language import Language\n",
        "\n",
        "# Define the custom component\n",
        "@Language.component(\"length_component\")\n",
        "def length_component(doc):\n",
        "    doc_length = len(doc)\n",
        "    print(f\"This document is {doc_length} tokens long.\")\n",
        "    return doc\n",
        "\n",
        "# Add the component first in the pipeline and print the pipe names\n",
        "nlp.add_pipe(\"length_component\", name=\"length_component\",first=True)"
      ],
      "execution_count": null,
      "outputs": []
    },
    {
      "cell_type": "code",
      "metadata": {
        "id": "6le0Pmpja6Wd"
      },
      "source": [
        "print(\"Pipeline:\", nlp.pipe_names)"
      ],
      "execution_count": null,
      "outputs": []
    },
    {
      "cell_type": "code",
      "metadata": {
        "id": "WHVlWvjea9Lu"
      },
      "source": [
        "doc = nlp(\"I love spicy food\")"
      ],
      "execution_count": null,
      "outputs": []
    },
    {
      "cell_type": "markdown",
      "metadata": {
        "id": "9b7SeAaj-xhh"
      },
      "source": [
        "## Machine Training"
      ]
    },
    {
      "cell_type": "markdown",
      "metadata": {
        "id": "U0oBPJzqcG0h"
      },
      "source": [
        "#### Training data\n",
        "\n"
      ]
    },
    {
      "cell_type": "code",
      "metadata": {
        "id": "hHjhinCtcZkZ"
      },
      "source": [
        "# Upload gadgets.json to\n",
        "# [\n",
        "#     [\"How to preorder the iPhone X\", { \"entities\": [[20, 28, \"GADGET\"]] }],\n",
        "#     [\"iPhone X is coming\", { \"entities\": [[0, 8, \"GADGET\"]] }],\n",
        "#     [\"Should I pay $1,000 for the iPhone X?\", { \"entities\": [[28, 36, \"GADGET\"]] }],\n",
        "#     [\"The iPhone 8 reviews are here\", { \"entities\": [[4, 12, \"GADGET\"]] }],\n",
        "#     [\"Your iPhone goes up to 11 today\", { \"entities\": [[5, 11, \"GADGET\"]] }],\n",
        "#     [\"I need a new phone! Any tips?\", { \"entities\": [] }]\n",
        "# ]"
      ],
      "execution_count": null,
      "outputs": []
    },
    {
      "cell_type": "markdown",
      "metadata": {
        "id": "nrpZNyTmctKM"
      },
      "source": [
        "#### Original NER"
      ]
    },
    {
      "cell_type": "code",
      "metadata": {
        "id": "-PU6DP3ccqYD"
      },
      "source": [
        "doc = nlp(\"I want to buy a new iPhone in Indonesia\")\n",
        "for ent in doc.ents:\n",
        "    print(ent.text, ent.label_)"
      ],
      "execution_count": null,
      "outputs": []
    },
    {
      "cell_type": "markdown",
      "metadata": {
        "id": "eIdhupLtcxIp"
      },
      "source": [
        "#### Train New NER"
      ]
    },
    {
      "cell_type": "code",
      "metadata": {
        "id": "SL7zAD0b2cl6"
      },
      "source": [
        "import spacy\n",
        "import random\n",
        "import json\n",
        "from spacy.training import Example\n",
        "\n",
        "with open(\"gadgets.json\", encoding=\"utf8\") as f:\n",
        "    TRAINING_DATA = json.loads(f.read())\n",
        "\n",
        "nlp = spacy.blank('en')\n",
        "ner = nlp.add_pipe(\"ner\")\n",
        "ner.add_label(\"GADGET\")\n",
        "\n",
        "# Start the training\n",
        "nlp.begin_training()\n",
        "examples = []\n",
        "for text, annots in TRAINING_DATA:\n",
        "    examples.append(Example.from_dict(nlp.make_doc(text), annots))\n",
        "\n",
        "nlp.initialize(lambda: examples)\n",
        "\n",
        "for i in range(10):\n",
        "    random.shuffle(examples)\n",
        "    for batch in spacy.util.minibatch(examples, size=3):\n",
        "        nlp.update(batch)"
      ],
      "execution_count": null,
      "outputs": []
    },
    {
      "cell_type": "markdown",
      "metadata": {
        "id": "OyS1TQ4s6UBd"
      },
      "source": [
        "#### Model Evaluation"
      ]
    },
    {
      "cell_type": "code",
      "metadata": {
        "id": "pbRrrkM933Ya"
      },
      "source": [
        "doc = nlp(\"I want to buy a new iPhone in Indonesia\")\n",
        "for ent in doc.ents:\n",
        "    print(ent.text, ent.label_)"
      ],
      "execution_count": null,
      "outputs": []
    },
    {
      "cell_type": "markdown",
      "metadata": {
        "id": "MXCQvEbrxRhE"
      },
      "source": [
        "## Text Classification"
      ]
    },
    {
      "cell_type": "markdown",
      "metadata": {
        "id": "UE_AGLLVcG0h"
      },
      "source": [
        "### Download dataset"
      ]
    },
    {
      "cell_type": "code",
      "metadata": {
        "id": "FEGGnockjtmC"
      },
      "source": [
        "# Import pandas & read csv file\n",
        "import pandas as pd\n",
        "reviews=pd.read_csv(\"https://raw.githubusercontent.com/hanzhang0420/Women-Clothing-E-commerce/master/Womens%20Clothing%20E-Commerce%20Reviews.csv\")"
      ],
      "execution_count": null,
      "outputs": []
    },
    {
      "cell_type": "code",
      "metadata": {
        "id": "td4dSZ5xjwe6"
      },
      "source": [
        "# Extract desired columns and view the dataframe \n",
        "reviews = reviews[['Review Text','Recommended IND']].dropna()\n",
        "reviaews.head(10)"
      ],
      "execution_count": null,
      "outputs": []
    },
    {
      "cell_type": "markdown",
      "metadata": {
        "id": "_ZhScqiOcG0i"
      },
      "source": [
        "### Add Textcat Pipeline"
      ]
    },
    {
      "cell_type": "code",
      "metadata": {
        "id": "lQxmxbX-jz81"
      },
      "source": [
        "import spacy\n",
        "\n",
        "nlp = spacy.blank('en')\n",
        "textcat = nlp.add_pipe(\"textcat\")\n",
        "textcat.add_label(\"POSITIVE\")\n",
        "textcat.add_label(\"NEGATIVE\")\n",
        "\n",
        "nlp.pipe_names"
      ],
      "execution_count": null,
      "outputs": []
    },
    {
      "cell_type": "markdown",
      "metadata": {
        "id": "81hvkYlkcG0i"
      },
      "source": [
        "### Preparing Training Data"
      ]
    },
    {
      "cell_type": "code",
      "metadata": {
        "id": "4DjR2JIuk5rM"
      },
      "source": [
        "# Converting the dataframe into a list of tuples\n",
        "reviews['tuples'] = reviews.apply(lambda row: (row['Review Text'],row['Recommended IND']), axis=1)\n",
        "train =reviews['tuples'].tolist()\n",
        "train[:10]"
      ],
      "execution_count": null,
      "outputs": []
    },
    {
      "cell_type": "code",
      "metadata": {
        "id": "Sj-4zHWHk-10"
      },
      "source": [
        "import random\n",
        "\n",
        "def load_data(limit=0, split=0.8):\n",
        "    train_data=train\n",
        "    # Shuffle the data\n",
        "    random.shuffle(train_data)\n",
        "    texts, labels = zip(*train_data)\n",
        "    # get the categories for each review\n",
        "    cats = [{\"POSITIVE\": bool(y), \"NEGATIVE\": not bool(y)} for y in labels]\n",
        "\n",
        "    # Splitting the training and evaluation data\n",
        "    split = int(len(train_data) * split)\n",
        "    return (texts[:split], cats[:split]), (texts[split:], cats[split:])\n",
        "\n",
        "n_texts=23486\n",
        "\n",
        "# Calling the load_data() function \n",
        "(train_texts, train_cats), (dev_texts, dev_cats) = load_data(limit=n_texts)\n",
        "\n",
        "# Processing the final format of training data\n",
        "train_data = list(zip(train_texts,[{'cats': cats} for cats in train_cats]))\n",
        "train_data[:10]"
      ],
      "execution_count": null,
      "outputs": []
    },
    {
      "cell_type": "markdown",
      "metadata": {
        "id": "NXjsGIPgcG0i"
      },
      "source": [
        "### Train the Model"
      ]
    },
    {
      "cell_type": "code",
      "metadata": {
        "id": "RHhHIm20EqMz"
      },
      "source": [
        "from spacy.training import Example\n",
        "\n",
        "nlp.begin_training()\n",
        "\n",
        "examples = []\n",
        "for text, annots in train_data:\n",
        "    examples.append(Example.from_dict(nlp.make_doc(text), annots))\n",
        "\n",
        "nlp.initialize(lambda: examples)\n",
        "\n",
        "for i in range(10):\n",
        "    random.shuffle(examples)\n",
        "    for batch in spacy.util.minibatch(examples, size=3):\n",
        "        nlp.update(batch)\n"
      ],
      "execution_count": null,
      "outputs": []
    },
    {
      "cell_type": "markdown",
      "metadata": {
        "id": "eQ5EQ2_5cG0j"
      },
      "source": [
        "### Test the Model"
      ]
    },
    {
      "cell_type": "code",
      "metadata": {
        "id": "lJT1fQGalhh-"
      },
      "source": [
        "test_text=\"I hate this dress\"\n",
        "doc=nlp(test_text)\n",
        "doc.cats "
      ],
      "execution_count": null,
      "outputs": []
    },
    {
      "cell_type": "markdown",
      "metadata": {
        "id": "hioyIcKB-xhm"
      },
      "source": [
        "# Topic 5 Overview of Attention Mechanism"
      ]
    },
    {
      "cell_type": "code",
      "metadata": {
        "id": "n-ZLOi1KBJMj"
      },
      "source": [
        ""
      ],
      "execution_count": null,
      "outputs": []
    },
    {
      "cell_type": "markdown",
      "metadata": {
        "id": "alUCM7KFydri"
      },
      "source": [
        "# Topic 3 Introduction to Attention Mechanism and Transformer Network"
      ]
    },
    {
      "cell_type": "code",
      "metadata": {
        "id": "hHxIxKYmTkpT"
      },
      "source": [
        "!pip install transformers datasets"
      ],
      "execution_count": null,
      "outputs": []
    },
    {
      "cell_type": "markdown",
      "metadata": {
        "id": "hUIIBeIhzXbn"
      },
      "source": [
        "## Sequence Classification\n",
        "Sequence classification is the task of classifying sequences according to a given number of classes. An example of sequence classification is the GLUE dataset, which is entirely based on that task"
      ]
    },
    {
      "cell_type": "code",
      "metadata": {
        "id": "pUtTjrdfoVZ-"
      },
      "source": [
        "import torch\n",
        "import torchtext\n",
        "import transformers\n",
        "from transformers import pipeline"
      ],
      "execution_count": null,
      "outputs": []
    },
    {
      "cell_type": "markdown",
      "metadata": {
        "id": "jEzquszq1JUW"
      },
      "source": [
        "### Sentimental Analysis"
      ]
    },
    {
      "cell_type": "code",
      "metadata": {
        "id": "qMdlKrlpqZ-0"
      },
      "source": [
        "classifier = pipeline(\"sentiment-analysis\")"
      ],
      "execution_count": null,
      "outputs": []
    },
    {
      "cell_type": "code",
      "metadata": {
        "id": "1tVoBP0gsLZT"
      },
      "source": [
        "result = classifier(\"I hate you\")[0]\n",
        "print(f\"label: {result['label']}, with score: {round(result['score'], 4)}\")"
      ],
      "execution_count": null,
      "outputs": []
    },
    {
      "cell_type": "code",
      "metadata": {
        "id": "C6UKR1WMsTDg"
      },
      "source": [
        "result = classifier(\"I love you\")[0]\n",
        "print(f\"label: {result['label']}, with score: {round(result['score'], 4)}\")"
      ],
      "execution_count": null,
      "outputs": []
    },
    {
      "cell_type": "markdown",
      "metadata": {
        "id": "z9_fqdIp1PJ3"
      },
      "source": [
        "### Paraphase Detection"
      ]
    },
    {
      "cell_type": "code",
      "metadata": {
        "id": "m5wlS7kBsmwh"
      },
      "source": [
        "from transformers import AutoTokenizer, AutoModelForSequenceClassification\n",
        "import torch\n",
        "\n",
        "tokenizer = AutoTokenizer.from_pretrained(\"bert-base-cased-finetuned-mrpc\")\n",
        "model = AutoModelForSequenceClassification.from_pretrained(\"bert-base-cased-finetuned-mrpc\")\n",
        "\n",
        "classes = [\"not paraphrase\", \"is paraphrase\"]\n",
        "\n",
        "sequence_0 = \"The company HuggingFace is based in New York City\"\n",
        "sequence_1 = \"Apples are especially bad for your health\"\n",
        "sequence_2 = \"HuggingFace's headquarters are situated in Manhattan\"\n",
        "\n",
        "# The tokenizer will automatically add any model specific separators (i.e. <CLS> and <SEP>) and tokens to\n",
        "# the sequence, as well as compute the attention masks.\n",
        "paraphrase = tokenizer(sequence_0, sequence_2, return_tensors=\"pt\")\n",
        "not_paraphrase = tokenizer(sequence_0, sequence_1, return_tensors=\"pt\")\n",
        "\n",
        "paraphrase_classification_logits = model(**paraphrase).logits\n",
        "not_paraphrase_classification_logits = model(**not_paraphrase).logits\n",
        "\n",
        "paraphrase_results = torch.softmax(paraphrase_classification_logits, dim=1).tolist()[0]\n",
        "not_paraphrase_results = torch.softmax(not_paraphrase_classification_logits, dim=1).tolist()[0]\n",
        "\n",
        "# Should be paraphrase\n",
        "for i in range(len(classes)):\n",
        "    print(f\"{classes[i]}: {int(round(paraphrase_results[i] * 100))}%\")\n",
        "\n",
        "# Should not be paraphrase\n",
        "for i in range(len(classes)):\n",
        "    print(f\"{classes[i]}: {int(round(not_paraphrase_results[i] * 100))}%\")\n",
        "\n"
      ],
      "execution_count": null,
      "outputs": []
    },
    {
      "cell_type": "markdown",
      "metadata": {
        "id": "S5hTaxK62Cfl"
      },
      "source": [
        "## Extractive Question Answerin\n",
        "Extractive Question Answering is the task of extracting an answer from a text given a question. An example of a question answering dataset is the SQuAD dataset, which is entirely based on that task."
      ]
    },
    {
      "cell_type": "code",
      "metadata": {
        "id": "Pj-bGMcnqeDR"
      },
      "source": [
        "from transformers import pipeline\n",
        "\n",
        "question_answerer = pipeline(\"question-answering\")\n",
        "\n",
        "context = r\"\"\"\n",
        "Extractive Question Answering is the task of extracting an answer from a text given a question. An example of a\n",
        "question answering dataset is the SQuAD dataset, which is entirely based on that task. If you would like to fine-tune\n",
        "a model on a SQuAD task, you may leverage the examples/pytorch/question-answering/run_squad.py script.\n",
        "\"\"\""
      ],
      "execution_count": null,
      "outputs": []
    },
    {
      "cell_type": "markdown",
      "metadata": {
        "id": "zCCCy4g8ZYtD"
      },
      "source": [
        "This returns an answer extracted from the text, a confidence score, alongside \"start\" and \"end\" values, which are the\n",
        "positions of the extracted answer in the text"
      ]
    },
    {
      "cell_type": "code",
      "metadata": {
        "id": "fECxBQDAsSUh"
      },
      "source": [
        "result = question_answerer(question=\"What is extractive question answering?\", context=context)\n",
        "print(f\"Answer: '{result['answer']}', score: {round(result['score'], 4)}, start: {result['start']}, end: {result['end']}\")"
      ],
      "execution_count": null,
      "outputs": []
    },
    {
      "cell_type": "code",
      "metadata": {
        "id": "wlKmgehqZcwg"
      },
      "source": [
        "result = question_answerer(question=\"What is a good example of a question answering dataset?\", context=context)\n",
        "print(f\"Answer: '{result['answer']}', score: {round(result['score'], 4)}, start: {result['start']}, end: {result['end']}\")"
      ],
      "execution_count": null,
      "outputs": []
    },
    {
      "cell_type": "markdown",
      "metadata": {
        "id": "nsFhw_IiZeZy"
      },
      "source": [
        "Here is an example of question answering using a model and a tokenizer. The process is the following:\n",
        "\n",
        "1. Instantiate a tokenizer and a model from the checkpoint name. The model is identified as a BERT model and loads it\n",
        "   with the weights stored in the checkpoint.\n",
        "2. Define a text and a few questions.\n",
        "3. Iterate over the questions and build a sequence from the text and the current question, with the correct\n",
        "   model-specific separators token type ids and attention masks.\n",
        "4. Pass this sequence through the model. This outputs a range of scores across the entire sequence tokens (question and\n",
        "   text), for both the start and end positions.\n",
        "5. Compute the softmax of the result to get probabilities over the tokens.\n",
        "6. Fetch the tokens from the identified start and stop values, convert those tokens to a string.\n",
        "7. Print the results."
      ]
    },
    {
      "cell_type": "code",
      "metadata": {
        "id": "aayY9ldlqiJy"
      },
      "source": [
        "from transformers import AutoTokenizer, AutoModelForQuestionAnswering\n",
        "import torch\n",
        "\n",
        "tokenizer = AutoTokenizer.from_pretrained(\"bert-large-uncased-whole-word-masking-finetuned-squad\")\n",
        "model = AutoModelForQuestionAnswering.from_pretrained(\"bert-large-uncased-whole-word-masking-finetuned-squad\")\n",
        "\n",
        "text = r\"\"\"\n",
        "🤗 Transformers (formerly known as pytorch-transformers and pytorch-pretrained-bert) provides general-purpose\n",
        "architectures (BERT, GPT-2, RoBERTa, XLM, DistilBert, XLNet…) for Natural Language Understanding (NLU) and Natural\n",
        "Language Generation (NLG) with over 32+ pretrained models in 100+ languages and deep interoperability between\n",
        "TensorFlow 2.0 and PyTorch.\n",
        "\"\"\"\n",
        "\n",
        "questions = [\n",
        "    \"How many pretrained models are available in 🤗 Transformers?\",\n",
        "    \"What does 🤗 Transformers provide?\",\n",
        "    \"🤗 Transformers provides interoperability between which frameworks?\",\n",
        "]\n",
        "\n",
        "for question in questions:\n",
        "    inputs = tokenizer(question, text, add_special_tokens=True, return_tensors=\"pt\")\n",
        "    input_ids = inputs[\"input_ids\"].tolist()[0]\n",
        "    outputs = model(**inputs)\n",
        "    answer_start_scores = outputs.start_logits\n",
        "    answer_end_scores = outputs.end_logits\n",
        "    # Get the most likely beginning of answer with the argmax of the score\n",
        "    answer_start = torch.argmax(answer_start_scores)\n",
        "    # Get the most likely end of answer with the argmax of the score\n",
        "    answer_end = torch.argmax(answer_end_scores) + 1\n",
        "    answer = tokenizer.convert_tokens_to_string(tokenizer.convert_ids_to_tokens(input_ids[answer_start:answer_end]))\n",
        "    print(f\"Question: {question}\")\n",
        "    print(f\"Answer: {answer}\")"
      ],
      "execution_count": null,
      "outputs": []
    },
    {
      "cell_type": "markdown",
      "metadata": {
        "id": "esYgs9ES2469"
      },
      "source": [
        "## Language Modeling\n",
        "Language modeling is the task of fitting a model to a corpus, which can be domain specific. All popular\n",
        "transformer-based models are trained using a variant of language modeling, e.g. BERT with masked language modeling,\n",
        "GPT-2 with causal language modeling.\n",
        "\n",
        "Language modeling can be useful outside of pretraining as well, for example to shift the model distribution to be\n",
        "domain-specific: using a language model trained over a very large corpus, and then fine-tuning it to a news dataset or\n",
        "on scientific papers"
      ]
    },
    {
      "cell_type": "markdown",
      "metadata": {
        "id": "d788j_tI3axn"
      },
      "source": [
        "### Masked Language Modeling\n",
        "Masked language modeling is the task of masking tokens in a sequence with a masking token, and prompting the model to fill that mask with an appropriate token. This allows the model to attend to both the right context (tokens on the right of the mask) and the left context (tokens on the left of the mask). Such a training creates a strong basis for downstream tasks requiring bi-directional context, such as SQuAD (question answering\n"
      ]
    },
    {
      "cell_type": "code",
      "metadata": {
        "id": "JIFYvaUB3j45"
      },
      "source": [
        "from transformers import pipeline\n",
        "\n",
        "unmasker = pipeline(\"fill-mask\")"
      ],
      "execution_count": null,
      "outputs": []
    },
    {
      "cell_type": "markdown",
      "metadata": {
        "id": "DzwLhz-8dK8I"
      },
      "source": [
        "This outputs the sequences with the mask filled, the confidence score, and the token id in the tokenizer vocabulary:"
      ]
    },
    {
      "cell_type": "code",
      "metadata": {
        "id": "qkVPgRj_3pQE"
      },
      "source": [
        "from pprint import pprint\n",
        "pprint(unmasker(f\"HuggingFace is creating a {unmasker.tokenizer.mask_token} that the community uses to solve NLP tasks.\"))"
      ],
      "execution_count": null,
      "outputs": []
    },
    {
      "cell_type": "markdown",
      "metadata": {
        "id": "ILIaLWG8dOGj"
      },
      "source": [
        "Here is an example of doing masked language modeling using a model and a tokenizer. The process is the following:\n",
        "\n",
        "1. Instantiate a tokenizer and a model from the checkpoint name. The model is identified as a DistilBERT model and\n",
        "   loads it with the weights stored in the checkpoint.\n",
        "2. Define a sequence with a masked token, placing the `tokenizer.mask_token` instead of a word.\n",
        "3. Encode that sequence into a list of IDs and find the position of the masked token in that list.\n",
        "4. Retrieve the predictions at the index of the mask token: this tensor has the same size as the vocabulary, and the\n",
        "   values are the scores attributed to each token. The model gives higher score to tokens it deems probable in that\n",
        "   context.\n",
        "5. Retrieve the top 5 tokens using the PyTorch `topk` or TensorFlow `top_k` methods.\n",
        "6. Replace the mask token by the tokens and print the results"
      ]
    },
    {
      "cell_type": "code",
      "metadata": {
        "id": "VQKALvrPqq9_"
      },
      "source": [
        "from transformers import AutoModelForMaskedLM, AutoTokenizer\n",
        "import torch\n",
        "\n",
        "tokenizer = AutoTokenizer.from_pretrained(\"distilbert-base-cased\")\n",
        "model = AutoModelForMaskedLM.from_pretrained(\"distilbert-base-cased\")\n",
        "\n",
        "sequence = \"Distilled models are smaller than the models they mimic. Using them instead of the large \" \\\n",
        "    f\"versions would help {tokenizer.mask_token} our carbon footprint.\"\n",
        "\n",
        "inputs = tokenizer(sequence, return_tensors=\"pt\")\n",
        "mask_token_index = torch.where(inputs[\"input_ids\"] == tokenizer.mask_token_id)[1]\n",
        "\n",
        "token_logits = model(**inputs).logits\n",
        "mask_token_logits = token_logits[0, mask_token_index, :]\n",
        "\n",
        "top_5_tokens = torch.topk(mask_token_logits, 5, dim=1).indices[0].tolist()"
      ],
      "execution_count": null,
      "outputs": []
    },
    {
      "cell_type": "markdown",
      "metadata": {
        "id": "7EcBeVgBeC8S"
      },
      "source": [
        "This prints five sequences, with the top 5 tokens predicted by the model:"
      ]
    },
    {
      "cell_type": "code",
      "metadata": {
        "id": "82VK7RDkeGxJ"
      },
      "source": [
        "for token in top_5_tokens:\n",
        "    print(sequence.replace(tokenizer.mask_token, tokenizer.decode([token])))"
      ],
      "execution_count": null,
      "outputs": []
    },
    {
      "cell_type": "markdown",
      "metadata": {
        "id": "tTWxs5k04Fc9"
      },
      "source": [
        "### Causal Language Modeling\n",
        "Causal language modeling is the task of predicting the token following a sequence of tokens. In this situation, the\n",
        "model only attends to the left context (tokens on the left of the mask). Such a training is particularly interesting\n",
        "for generation tasks. \n",
        "\n",
        "Usually, the next token is predicted by sampling from the logits of the last hidden state the model produces from the\n",
        "input sequence.\n",
        "\n",
        "Here is an example of using the tokenizer and model and leveraging the\n",
        "`PreTrainedModel.top_k_top_p_filtering` method to sample the next token following an input sequence\n",
        "of tokens."
      ]
    },
    {
      "cell_type": "code",
      "metadata": {
        "id": "tiybUcoDpHLm"
      },
      "source": [
        "from transformers import AutoModelForCausalLM, AutoTokenizer, top_k_top_p_filtering\n",
        "import torch\n",
        "from torch import nn\n",
        "\n",
        "tokenizer = AutoTokenizer.from_pretrained(\"gpt2\")\n",
        "model = AutoModelForCausalLM.from_pretrained(\"gpt2\")\n",
        "\n",
        "sequence = f\"Hugging Face is based in DUMBO, New York City, and\"\n",
        "\n",
        "inputs = tokenizer(sequence, return_tensors=\"pt\")\n",
        "input_ids = inputs[\"input_ids\"]\n",
        "\n",
        "# get logits of last hidden state\n",
        "next_token_logits = model(**inputs).logits[:, -1, :]\n",
        "\n",
        "# filter\n",
        "filtered_next_token_logits = top_k_top_p_filtering(next_token_logits, top_k=50, top_p=1.0)\n",
        "\n",
        "# sample\n",
        "probs = nn.functional.softmax(filtered_next_token_logits, dim=-1)\n",
        "next_token = torch.multinomial(probs, num_samples=1)\n",
        "\n",
        "generated = torch.cat([input_ids, next_token], dim=-1)\n",
        "\n",
        "resulting_string = tokenizer.decode(generated.tolist()[0])"
      ],
      "execution_count": null,
      "outputs": []
    },
    {
      "cell_type": "markdown",
      "metadata": {
        "id": "zx6Jk-NEfsxf"
      },
      "source": [
        "This outputs a (hopefully) coherent next token following the original sequence, which in our case is the word **has**:"
      ]
    },
    {
      "cell_type": "code",
      "metadata": {
        "id": "VrdawzMIfuVo"
      },
      "source": [
        "print(resulting_string)"
      ],
      "execution_count": null,
      "outputs": []
    },
    {
      "cell_type": "markdown",
      "metadata": {
        "id": "IvDnVAcF5Al_"
      },
      "source": [
        "## Text Generation\n",
        "In text generation (a.k.a open-ended text generation) the goal is to create a coherent portion of text that is a continuation from the given context. The following example shows how GPT-2 can be used in pipelines to generate text."
      ]
    },
    {
      "cell_type": "code",
      "metadata": {
        "id": "iU_dQBKMrFlh"
      },
      "source": [
        "from transformers import pipeline\n",
        "\n",
        "text_generator = pipeline(\"text-generation\")\n",
        "print(text_generator(\"As far as I am concerned, I will\", max_length=50, do_sample=False))"
      ],
      "execution_count": null,
      "outputs": []
    },
    {
      "cell_type": "markdown",
      "metadata": {
        "id": "Tfyrg8OT5SBn"
      },
      "source": [
        "Here, the model generates a random text with a total maximal length of **50** tokens from context **\"As far as I am\n",
        "concerned, I will\"**. Behind the scenes, the pipeline object calls the method\n",
        "`PreTrainedModel.generate` to generate text. The default arguments for this method can be\n",
        "overridden in the pipeline, as is shown above for the arguments `max_length` and `do_sample`.\n",
        "\n",
        "Below is an example of text generation using `XLNet` and its tokenizer, which includes calling `generate` directly:"
      ]
    },
    {
      "cell_type": "code",
      "metadata": {
        "id": "7xxlRd4frJYa"
      },
      "source": [
        "from transformers import AutoModelForCausalLM, AutoTokenizer\n",
        "\n",
        "model = AutoModelForCausalLM.from_pretrained(\"xlnet-base-cased\")\n",
        "tokenizer = AutoTokenizer.from_pretrained(\"xlnet-base-cased\")\n",
        "\n",
        "# Padding text helps XLNet with short prompts - proposed by Aman Rusia in https://github.com/rusiaaman/XLNet-gen#methodology\n",
        "PADDING_TEXT = \"\"\"In 1991, the remains of Russian Tsar Nicholas II and his family\n",
        "(except for Alexei and Maria) are discovered.\n",
        "The voice of Nicholas's young son, Tsarevich Alexei Nikolaevich, narrates the\n",
        "remainder of the story. 1883 Western Siberia,\n",
        "a young Grigori Rasputin is asked by his father and a group of men to perform magic.\n",
        "Rasputin has a vision and denounces one of the men as a horse thief. Although his\n",
        "father initially slaps him for making such an accusation, Rasputin watches as the\n",
        "man is chased outside and beaten. Twenty years later, Rasputin sees a vision of\n",
        "the Virgin Mary, prompting him to become a priest. Rasputin quickly becomes famous,\n",
        "with people, even a bishop, begging for his blessing. <eod> </s> <eos>\"\"\"\n",
        "\n",
        "prompt = \"Today the weather is really nice and I am planning on \"\n",
        "inputs = tokenizer(PADDING_TEXT + prompt, add_special_tokens=False, return_tensors=\"pt\")[\"input_ids\"]\n",
        "\n",
        "prompt_length = len(tokenizer.decode(inputs[0]))\n",
        "outputs = model.generate(inputs, max_length=250, do_sample=True, top_p=0.95, top_k=60)\n",
        "generated = prompt + tokenizer.decode(outputs[0])[prompt_length+1:]"
      ],
      "execution_count": null,
      "outputs": []
    },
    {
      "cell_type": "code",
      "metadata": {
        "id": "70CSTomqhdqV"
      },
      "source": [
        "print(generated)"
      ],
      "execution_count": null,
      "outputs": []
    },
    {
      "cell_type": "markdown",
      "metadata": {
        "id": "YnZOL3Sy5h17"
      },
      "source": [
        "## Named Entity Recognition\n",
        "Named Entity Recognition (NER) is the task of classifying tokens according to a class, for example, identifying a token as a person, an organisation or a location. An example of a named entity recognition dataset is the CoNLL-2003 dataset, which is entirely based on that task.\n",
        "\n",
        "Here is an example of using pipelines to do named entity recognition, specifically, trying to identify tokens as belonging to one of 9 classes:\n",
        "\n",
        "- O, Outside of a named entity\n",
        "- B-MIS, Beginning of a miscellaneous entity right after another miscellaneous entity\n",
        "- I-MIS, Miscellaneous entity\n",
        "- B-PER, Beginning of a person's name right after another person's name\n",
        "- I-PER, Person's name\n",
        "- B-ORG, Beginning of an organisation right after another organisation\n",
        "- I-ORG, Organisation\n",
        "- B-LOC, Beginning of a location right after another location\n",
        "- I-LOC, Location"
      ]
    },
    {
      "cell_type": "code",
      "metadata": {
        "id": "NmOdR441rM5R"
      },
      "source": [
        "from transformers import pipeline\n",
        "\n",
        "ner_pipe = pipeline(\"ner\")\n",
        "\n",
        "sequence = \"\"\"Hugging Face Inc. is a company based in New York City. Its headquarters are in DUMBO,\n",
        "therefore very close to the Manhattan Bridge which is visible from the window.\"\"\""
      ],
      "execution_count": null,
      "outputs": []
    },
    {
      "cell_type": "code",
      "metadata": {
        "id": "-hgUn4tMyH69"
      },
      "source": [
        "for entity in ner_pipe(sequence):\n",
        "    print(entity)"
      ],
      "execution_count": null,
      "outputs": []
    },
    {
      "cell_type": "markdown",
      "metadata": {
        "id": "wVNo3KDpidum"
      },
      "source": [
        "Note how the tokens of the sequence \"Hugging Face\" have been identified as an organisation, and \"New York City\",\n",
        "\"DUMBO\" and \"Manhattan Bridge\" have been identified as locations.\n",
        "\n",
        "Here is an example of doing named entity recognition, using a model and a tokenizer. The process is the following:\n",
        "\n",
        "1. Instantiate a tokenizer and a model from the checkpoint name. The model is identified as a BERT model and loads it\n",
        "   with the weights stored in the checkpoint.\n",
        "2. Define a sequence with known entities, such as \"Hugging Face\" as an organisation and \"New York City\" as a location.\n",
        "3. Split words into tokens so that they can be mapped to predictions. We use a small hack by, first, completely\n",
        "   encoding and decoding the sequence, so that we're left with a string that contains the special tokens.\n",
        "4. Encode that sequence into IDs (special tokens are added automatically).\n",
        "5. Retrieve the predictions by passing the input to the model and getting the first output. This results in a\n",
        "   distribution over the 9 possible classes for each token. We take the argmax to retrieve the most likely class for\n",
        "   each token.\n",
        "6. Zip together each token with its prediction and print it."
      ]
    },
    {
      "cell_type": "code",
      "metadata": {
        "id": "L3ZJlkH9x0N4"
      },
      "source": [
        "from transformers import AutoModelForTokenClassification, AutoTokenizer\n",
        "import torch\n",
        "\n",
        "model = AutoModelForTokenClassification.from_pretrained(\"dbmdz/bert-large-cased-finetuned-conll03-english\")\n",
        "tokenizer = AutoTokenizer.from_pretrained(\"bert-base-cased\")\n",
        "\n",
        "sequence = \"Hugging Face Inc. is a company based in New York City. Its headquarters are in DUMBO, \" \\\n",
        "           \"therefore very close to the Manhattan Bridge.\"\n",
        "\n",
        "inputs = tokenizer(sequence, return_tensors=\"pt\")\n",
        "tokens = inputs.tokens()\n",
        "\n",
        "outputs = model(**inputs).logits\n",
        "predictions = torch.argmax(outputs, dim=2)"
      ],
      "execution_count": null,
      "outputs": []
    },
    {
      "cell_type": "markdown",
      "metadata": {
        "id": "9ib66G_xjMkZ"
      },
      "source": [
        "This outputs a list of each token mapped to its corresponding prediction. Differently from the pipeline, here every\n",
        "token has a prediction as we didn't remove the \"0\"th class, which means that no particular entity was found on that\n",
        "token.\n",
        "\n",
        "In the above example, `predictions` is an integer that corresponds to the predicted class. We can use the\n",
        "`model.config.id2label` property in order to recover the class name corresponding to the class number, which is\n",
        "illustrated below:"
      ]
    },
    {
      "cell_type": "code",
      "metadata": {
        "id": "nZeJ4oaWy5Sq"
      },
      "source": [
        "for token, prediction in zip(tokens, predictions[0].numpy()):\n",
        "    print((token, model.config.id2label[prediction]))"
      ],
      "execution_count": null,
      "outputs": []
    },
    {
      "cell_type": "markdown",
      "metadata": {
        "id": "jQ6nYZwd6v_B"
      },
      "source": [
        "## Summarization\n",
        "Summarization is the task of summarizing a document or an article into a shorter text. \n",
        "\n",
        "An example of a summarization dataset is the CNN / Daily Mail dataset, which consists of long news articles and was\n",
        "created for the task of summarization. \n",
        "\n",
        "Here is an example of using the pipelines to do summarization. It leverages a Bart model that was fine-tuned on the CNN\n",
        "/ Daily Mail data set."
      ]
    },
    {
      "cell_type": "code",
      "metadata": {
        "id": "B0dcZLGkyvkx"
      },
      "source": [
        "from transformers import pipeline\n",
        "\n",
        "summarizer = pipeline(\"summarization\")\n",
        "\n",
        "ARTICLE = \"\"\" New York (CNN)When Liana Barrientos was 23 years old, she got married in Westchester County, New York.\n",
        "A year later, she got married again in Westchester County, but to a different man and without divorcing her first husband.\n",
        "Only 18 days after that marriage, she got hitched yet again. Then, Barrientos declared \"I do\" five more times, sometimes only within two weeks of each other.\n",
        "In 2010, she married once more, this time in the Bronx. In an application for a marriage license, she stated it was her \"first and only\" marriage.\n",
        "Barrientos, now 39, is facing two criminal counts of \"offering a false instrument for filing in the first degree,\" referring to her false statements on the\n",
        "2010 marriage license application, according to court documents.\n",
        "Prosecutors said the marriages were part of an immigration scam.\n",
        "On Friday, she pleaded not guilty at State Supreme Court in the Bronx, according to her attorney, Christopher Wright, who declined to comment further.\n",
        "After leaving court, Barrientos was arrested and charged with theft of service and criminal trespass for allegedly sneaking into the New York subway through an emergency exit, said Detective\n",
        "Annette Markowski, a police spokeswoman. In total, Barrientos has been married 10 times, with nine of her marriages occurring between 1999 and 2002.\n",
        "All occurred either in Westchester County, Long Island, New Jersey or the Bronx. She is believed to still be married to four men, and at one time, she was married to eight men at once, prosecutors say.\n",
        "Prosecutors said the immigration scam involved some of her husbands, who filed for permanent residence status shortly after the marriages.\n",
        "Any divorces happened only after such filings were approved. It was unclear whether any of the men will be prosecuted.\n",
        "The case was referred to the Bronx District Attorney\\'s Office by Immigration and Customs Enforcement and the Department of Homeland Security\\'s\n",
        "Investigation Division. Seven of the men are from so-called \"red-flagged\" countries, including Egypt, Turkey, Georgia, Pakistan and Mali.\n",
        "Her eighth husband, Rashid Rajput, was deported in 2006 to his native Pakistan after an investigation by the Joint Terrorism Task Force.\n",
        "If convicted, Barrientos faces up to four years in prison.  Her next court appearance is scheduled for May 18.\n",
        "\"\"\""
      ],
      "execution_count": null,
      "outputs": []
    },
    {
      "cell_type": "markdown",
      "metadata": {
        "id": "eIJMtgYAkeS2"
      },
      "source": [
        "Because the summarization pipeline depends on the PreTrainedModel.generate() method, we can override the default arguments of PreTrainedModel.generate() directly in the pipeline for max_length and min_length as shown below. This outputs the following summary:"
      ]
    },
    {
      "cell_type": "code",
      "metadata": {
        "id": "ceRajgqHzD92"
      },
      "source": [
        "print(summarizer(ARTICLE, max_length=130, min_length=30, do_sample=False))"
      ],
      "execution_count": null,
      "outputs": []
    },
    {
      "cell_type": "code",
      "metadata": {
        "id": "G3gWjXnNzMR_"
      },
      "source": [
        "from transformers import AutoModelForSeq2SeqLM, AutoTokenizer\n",
        "\n",
        "model = AutoModelForSeq2SeqLM.from_pretrained(\"t5-base\")\n",
        "tokenizer = AutoTokenizer.from_pretrained(\"t5-base\")\n",
        "\n",
        "# T5 uses a max_length of 512 so we cut the article to 512 tokens.\n",
        "inputs = tokenizer(\"summarize: \" + ARTICLE, return_tensors=\"pt\", max_length=512, truncation=True)\n",
        "outputs = model.generate(\n",
        "    inputs[\"input_ids\"], max_length=150, min_length=40, length_penalty=2.0, num_beams=4, early_stopping=True\n",
        ")\n",
        "\n",
        "print(tokenizer.decode(outputs[0]))"
      ],
      "execution_count": null,
      "outputs": []
    },
    {
      "cell_type": "markdown",
      "metadata": {
        "id": "lepFK-Ph7zGi"
      },
      "source": [
        "## Translation\n",
        "Translation is the task of translating a text from one language to another. \n",
        "\n",
        "An example of a translation dataset is the WMT English to German dataset, which has sentences in English as the input\n",
        "data and the corresponding sentences in German as the target data. \n",
        "\n",
        "Here is an example of using the pipelines to do translation. It leverages a T5 model that was only pre-trained on a\n",
        "multi-task mixture dataset (including WMT), yet, yielding impressive translation results."
      ]
    },
    {
      "cell_type": "code",
      "metadata": {
        "id": "2sIIrbbG75cS"
      },
      "source": [
        "from transformers import pipeline\n",
        "\n",
        "translator = pipeline(\"translation_en_to_de\")\n",
        "print(translator(\"Hugging Face is a technology company based in New York and Paris\", max_length=40))"
      ],
      "execution_count": null,
      "outputs": []
    },
    {
      "cell_type": "markdown",
      "metadata": {
        "id": "sVNKBdy1oveR"
      },
      "source": [
        "Because the translation pipeline depends on the `PreTrainedModel.generate()` method, we can override the default\n",
        "arguments of `PreTrainedModel.generate()` directly in the pipeline as is shown for `max_length` above.\n",
        "\n",
        "Here is an example of doing translation using a model and a tokenizer. The process is the following:\n",
        "\n",
        "1. Instantiate a tokenizer and a model from the checkpoint name. Summarization is usually done using an encoder-decoder\n",
        "   model, such as `Bart` or `T5`.\n",
        "2. Define the article that should be summarized.\n",
        "3. Add the T5 specific prefix \"translate English to German: \"\n",
        "4. Use the `PreTrainedModel.generate()` method to perform the translation."
      ]
    },
    {
      "cell_type": "code",
      "metadata": {
        "id": "Do-2wVLZzRX4"
      },
      "source": [
        "from transformers import AutoModelForSeq2SeqLM, AutoTokenizer\n",
        "\n",
        "model = AutoModelForSeq2SeqLM.from_pretrained(\"t5-base\")\n",
        "tokenizer = AutoTokenizer.from_pretrained(\"t5-base\")\n",
        "\n",
        "inputs = tokenizer(\n",
        "    \"translate English to German: Hugging Face is a technology company based in New York and Paris\",\n",
        "    return_tensors=\"pt\"\n",
        ")\n",
        "outputs = model.generate(inputs[\"input_ids\"], max_length=40, num_beams=4, early_stopping=True)\n",
        "\n",
        "print(tokenizer.decode(outputs[0]))"
      ],
      "execution_count": null,
      "outputs": []
    },
    {
      "cell_type": "markdown",
      "metadata": {
        "id": "KCdelN5Co4qt"
      },
      "source": [
        "As with the pipeline example, we get the same translation:"
      ]
    },
    {
      "cell_type": "code",
      "metadata": {
        "id": "KGDBDOU8o6l0"
      },
      "source": [
        "print(tokenizer.decode(outputs[0]))"
      ],
      "execution_count": null,
      "outputs": []
    },
    {
      "cell_type": "markdown",
      "metadata": {
        "id": "R_vUfAHdBOEf"
      },
      "source": [
        "## Spacy Transformer"
      ]
    },
    {
      "cell_type": "code",
      "metadata": {
        "id": "CeAEjpuQsIEg"
      },
      "source": [
        "# Install spaCy v3\n",
        "!pip3 install spacy==3.0"
      ],
      "execution_count": null,
      "outputs": []
    },
    {
      "cell_type": "code",
      "metadata": {
        "id": "VqsbYsMaIQhF"
      },
      "source": [
        "!pip3 install spacy-transformers"
      ],
      "execution_count": null,
      "outputs": []
    },
    {
      "cell_type": "code",
      "metadata": {
        "id": "ER14CEQwYGct"
      },
      "source": [
        "!python3 -m spacy download en_core_web_trf"
      ],
      "execution_count": null,
      "outputs": []
    },
    {
      "cell_type": "code",
      "metadata": {
        "id": "1TkB3akPeskn"
      },
      "source": [
        "import spacy\n",
        "\n",
        "nlp = spacy.load(\"en_core_web_trf\")\n",
        "print(nlp.pipe_names) "
      ],
      "execution_count": null,
      "outputs": []
    },
    {
      "cell_type": "code",
      "metadata": {
        "id": "79oChtWU-xhp"
      },
      "source": [
        "doc = nlp(\"I love spicy Indonesia food\")\n",
        "\n",
        "for ent in doc.ents:\n",
        "    print(ent.text, ent.label_)"
      ],
      "execution_count": null,
      "outputs": []
    },
    {
      "cell_type": "code",
      "metadata": {
        "id": "SGr5kV_MeGqn"
      },
      "source": [
        ""
      ],
      "execution_count": null,
      "outputs": []
    }
  ]
}